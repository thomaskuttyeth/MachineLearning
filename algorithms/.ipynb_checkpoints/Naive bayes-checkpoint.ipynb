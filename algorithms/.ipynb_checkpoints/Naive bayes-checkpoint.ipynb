{
 "cells": [
  {
   "cell_type": "code",
   "execution_count": 157,
   "id": "f74c8a6d",
   "metadata": {},
   "outputs": [],
   "source": [
    "import pandas as pd \n",
    "import numpy as np \n",
    "\n",
    "class NB():\n",
    "    def __init__(self,X,y):\n",
    "        '''X should be a dataframe'''\n",
    "        self.X = X\n",
    "        self.y = y\n",
    "        self.features = list(self.X.columns)\n",
    "        \n",
    "         # making a list of unique classes\n",
    "        self.classes = list(self.y.unique())\n",
    "        # counting the total no of classes in the target feature \n",
    "        self.class_0count = list(self.y).count(self.classes[0])\n",
    "        self.class_1count = list(self.y).count(self.classes[1])\n",
    "        self.class_proba = None\n",
    "        # finding the class probabilities        \n",
    "        self.class_proba = dict.fromkeys(self.classes)\n",
    "\n",
    "        for i in range(len(self.classes)):\n",
    "            ct = len(self.y[self.y == self.classes[i]])/len(self.y) \n",
    "            self.class_proba[self.classes[i]] = ct\n",
    "        \n",
    "    def fit(self):       \n",
    "        # getting the features names and target name      \n",
    "        target = self.y.name\n",
    "            \n",
    "        # creating a dictionary with features as keys \n",
    "        final_dict = dict.fromkeys(self.features)\n",
    "\n",
    "        # start looping over the features using feature index \n",
    "        for f in range(len(self.features)):\n",
    "            \n",
    "            # creating the gps list consists of uniques values for each feature \n",
    "            gps = list(self.X[self.features[f]].unique())\n",
    "            \n",
    "            # creating a dictionary for each gp  \n",
    "            gp_counts = dict.fromkeys(gps)\n",
    "            \n",
    "            for j in range(len(gps)):          \n",
    "                # getting the count of first group \n",
    "                dict_count = self.y[self.X[self.features[f]] == gps[j]].value_counts()\n",
    "                # dividing the value counts by total no of classes respectively (yes and no)\n",
    "                dc = dict.fromkeys(self.classes)\n",
    "                dc[self.classes[0]] = dict_count[self.classes[0]]/self.class_0count\n",
    "                dc[self.classes[1]] = dict_count[self.classes[1]]/self.class_1count\n",
    "                \n",
    "                # storing the counts dictionary in \n",
    "                gp_counts[gps[j]] = dc\n",
    "                         \n",
    "            # adding all the gp counts to the respective features :    \n",
    "            final_dict[self.features[f]] = gp_counts\n",
    "                    \n",
    "        # returning the final dictionary which holds the apriori probabilities \n",
    "        return final_dict\n",
    "    \n",
    "    def predict(self):\n",
    "        final_dict = NB.fit(self)\n",
    "         \n",
    "        def pred(feature_vec):                                   \n",
    "            prob_yes = 1\n",
    "            prob_no = 1\n",
    "            for i in range(len(feature_vec)):\n",
    "                ''' from the dictionary takes the feature name, then feture vector vlaue and the class proba'''                \n",
    "                r = final_dict[self.features[i]]  [feature_vec[i]]    [self.classes[0]]\n",
    "                prob_yes = prob_yes * r  \n",
    "                \n",
    "                g = final_dict[self.features[i]][feature_vec[i]]    [self.classes[1]]\n",
    "                prob_no = prob_no * g \n",
    "                       \n",
    "            # multiplying with class probabilities     \n",
    "            fin_yes = prob_yes * self.class_proba[self.classes[0]]\n",
    "            fin_no = prob_no * self.class_proba[self.classes[1]]\n",
    "            \n",
    "            if fin_yes> fin_no:\n",
    "                return self.classes[0]\n",
    "            else:\n",
    "                return self.classes[1]\n",
    "        \n",
    "        preds = []\n",
    "        for row in range(len(self.X)):\n",
    "            preds.append(pred(list(self.X.iloc[row])))\n",
    "        return pd.DataFrame(preds,columns = ['predictions'])"
   ]
  },
  {
   "cell_type": "code",
   "execution_count": 158,
   "id": "0b077475",
   "metadata": {},
   "outputs": [],
   "source": [
    "df = pd.read_csv('play.csv')\n",
    "x = df[['weather']]\n",
    "y = df.play"
   ]
  },
  {
   "cell_type": "code",
   "execution_count": 161,
   "id": "1cfc825e",
   "metadata": {},
   "outputs": [],
   "source": [
    "df"
   ]
  },
  {
   "cell_type": "code",
   "execution_count": 162,
   "id": "74fb886f",
   "metadata": {},
   "outputs": [],
   "source": [
    "model = NB(x,y)"
   ]
  },
  {
   "cell_type": "code",
   "execution_count": 163,
   "id": "e3c9de6c",
   "metadata": {},
   "outputs": [
    {
     "name": "stdout",
     "output_type": "stream",
     "text": [
      "features =  ['weather']\n",
      "no count =  6\n",
      "yes count =  9\n",
      "classes =  ['no', 'yes']\n"
     ]
    }
   ],
   "source": [
    "print('features = ', model.features)\n",
    "print('no count = ',model.class_0count)# no \n",
    "print('yes count = ',model.class_1count) # yes \n",
    "print('classes = ', model.classes)"
   ]
  },
  {
   "cell_type": "code",
   "execution_count": 164,
   "id": "49a1c67a",
   "metadata": {},
   "outputs": [
    {
     "data": {
      "text/plain": [
       "{'weather': {'sunny': {'no': 0.5, 'yes': 0.2222222222222222},\n",
       "  'overcast': {'no': 0.16666666666666666, 'yes': 0.3333333333333333},\n",
       "  'rainy': {'no': 0.3333333333333333, 'yes': 0.4444444444444444}}}"
      ]
     },
     "execution_count": 164,
     "metadata": {},
     "output_type": "execute_result"
    }
   ],
   "source": [
    "model.fit()"
   ]
  },
  {
   "cell_type": "code",
   "execution_count": 168,
   "id": "b975bbd5",
   "metadata": {},
   "outputs": [
    {
     "data": {
      "text/html": [
       "<div>\n",
       "<style scoped>\n",
       "    .dataframe tbody tr th:only-of-type {\n",
       "        vertical-align: middle;\n",
       "    }\n",
       "\n",
       "    .dataframe tbody tr th {\n",
       "        vertical-align: top;\n",
       "    }\n",
       "\n",
       "    .dataframe thead th {\n",
       "        text-align: right;\n",
       "    }\n",
       "</style>\n",
       "<table border=\"1\" class=\"dataframe\">\n",
       "  <thead>\n",
       "    <tr style=\"text-align: right;\">\n",
       "      <th></th>\n",
       "      <th>predictions</th>\n",
       "    </tr>\n",
       "  </thead>\n",
       "  <tbody>\n",
       "    <tr>\n",
       "      <th>0</th>\n",
       "      <td>no</td>\n",
       "    </tr>\n",
       "    <tr>\n",
       "      <th>1</th>\n",
       "      <td>no</td>\n",
       "    </tr>\n",
       "    <tr>\n",
       "      <th>2</th>\n",
       "      <td>yes</td>\n",
       "    </tr>\n",
       "    <tr>\n",
       "      <th>3</th>\n",
       "      <td>yes</td>\n",
       "    </tr>\n",
       "    <tr>\n",
       "      <th>4</th>\n",
       "      <td>yes</td>\n",
       "    </tr>\n",
       "    <tr>\n",
       "      <th>5</th>\n",
       "      <td>yes</td>\n",
       "    </tr>\n",
       "    <tr>\n",
       "      <th>6</th>\n",
       "      <td>yes</td>\n",
       "    </tr>\n",
       "    <tr>\n",
       "      <th>7</th>\n",
       "      <td>no</td>\n",
       "    </tr>\n",
       "    <tr>\n",
       "      <th>8</th>\n",
       "      <td>no</td>\n",
       "    </tr>\n",
       "    <tr>\n",
       "      <th>9</th>\n",
       "      <td>yes</td>\n",
       "    </tr>\n",
       "    <tr>\n",
       "      <th>10</th>\n",
       "      <td>yes</td>\n",
       "    </tr>\n",
       "    <tr>\n",
       "      <th>11</th>\n",
       "      <td>no</td>\n",
       "    </tr>\n",
       "    <tr>\n",
       "      <th>12</th>\n",
       "      <td>yes</td>\n",
       "    </tr>\n",
       "    <tr>\n",
       "      <th>13</th>\n",
       "      <td>yes</td>\n",
       "    </tr>\n",
       "    <tr>\n",
       "      <th>14</th>\n",
       "      <td>yes</td>\n",
       "    </tr>\n",
       "  </tbody>\n",
       "</table>\n",
       "</div>"
      ],
      "text/plain": [
       "   predictions\n",
       "0           no\n",
       "1           no\n",
       "2          yes\n",
       "3          yes\n",
       "4          yes\n",
       "5          yes\n",
       "6          yes\n",
       "7           no\n",
       "8           no\n",
       "9          yes\n",
       "10         yes\n",
       "11          no\n",
       "12         yes\n",
       "13         yes\n",
       "14         yes"
      ]
     },
     "execution_count": 168,
     "metadata": {},
     "output_type": "execute_result"
    }
   ],
   "source": [
    "model.predict()"
   ]
  },
  {
   "cell_type": "code",
   "execution_count": null,
   "id": "b774ad16",
   "metadata": {},
   "outputs": [],
   "source": []
  },
  {
   "cell_type": "code",
   "execution_count": null,
   "id": "3fb40d69",
   "metadata": {},
   "outputs": [],
   "source": []
  },
  {
   "cell_type": "code",
   "execution_count": null,
   "id": "eba48b97",
   "metadata": {},
   "outputs": [],
   "source": []
  },
  {
   "cell_type": "code",
   "execution_count": null,
   "id": "b95a3e42",
   "metadata": {},
   "outputs": [],
   "source": []
  }
 ],
 "metadata": {
  "kernelspec": {
   "display_name": "Python 3 (ipykernel)",
   "language": "python",
   "name": "python3"
  },
  "language_info": {
   "codemirror_mode": {
    "name": "ipython",
    "version": 3
   },
   "file_extension": ".py",
   "mimetype": "text/x-python",
   "name": "python",
   "nbconvert_exporter": "python",
   "pygments_lexer": "ipython3",
   "version": "3.8.8"
  }
 },
 "nbformat": 4,
 "nbformat_minor": 5
}
