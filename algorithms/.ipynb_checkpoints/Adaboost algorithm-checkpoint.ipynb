{
 "cells": [
  {
   "cell_type": "markdown",
   "id": "19adae77",
   "metadata": {},
   "source": [
    "# Adaboost algorithm "
   ]
  },
  {
   "cell_type": "markdown",
   "id": "517c7504",
   "metadata": {},
   "source": [
    " * AdaBoost combines a lot of weak learners to make predictions. The weak learners are almost always  stumps. \n",
    " * some stumps get more say in the prediction than others \n",
    " * each stump is made by taking the previous stump's mistakes into account. "
   ]
  },
  {
   "cell_type": "markdown",
   "id": "5e2c6ae3",
   "metadata": {},
   "source": [
    "<img src = 'https://www.mdpi.com/sensors/sensors-21-05682/article_deploy/html/images/sensors-21-05682-g002.png' width=\"400\"/> "
   ]
  },
  {
   "cell_type": "markdown",
   "id": "bbbfc1d2",
   "metadata": {},
   "source": [
    "## How we make the stumps \n",
    " * We find all the stumps entropy and select our first stump with less entropy value \n",
    "* At the start all samples get the same weight ( 1/total no of samples). This makes the samples all equally important. However, after we make the first stump, these weights will change in order to guide how the next stump is created. \n",
    "* We callcuate the prediction from the stump and calculate the total error for that stumb which is nothing but the sum of weights of the mispredicted samples. \n",
    " * Now we calcuate the performance of the stump with respect to the total error associated with it using the following equation. \n",
    " \n",
    "  <img src = 'https://blog.paperspace.com/content/images/2019/11/image-52.png'> "
   ]
  },
  {
   "attachments": {},
   "cell_type": "markdown",
   "id": "1a61b200",
   "metadata": {},
   "source": [
    "* Now after getting the performance measure for the stump, we update the weights of both mispredicted and wellpredicted samples using the following formula \n",
    "<img src = 'https://blog.paperspace.com/content/images/2019/11/image-53.png'> "
   ]
  },
  {
   "cell_type": "markdown",
   "id": "98c79270",
   "metadata": {},
   "source": [
    "* Now we normalize the weights by divinding it by the sum of all weights\n",
    "* This process will continue till we reach the threshold or some criteria. \n",
    "\n",
    "#### Note : \n",
    " * Predictions are made using the maority vote from the outputs of stumps "
   ]
  },
  {
   "cell_type": "code",
   "execution_count": null,
   "id": "be5f5a1f",
   "metadata": {},
   "outputs": [],
   "source": [
    " "
   ]
  }
 ],
 "metadata": {
  "kernelspec": {
   "display_name": "Python 3 (ipykernel)",
   "language": "python",
   "name": "python3"
  },
  "language_info": {
   "codemirror_mode": {
    "name": "ipython",
    "version": 3
   },
   "file_extension": ".py",
   "mimetype": "text/x-python",
   "name": "python",
   "nbconvert_exporter": "python",
   "pygments_lexer": "ipython3",
   "version": "3.8.8"
  }
 },
 "nbformat": 4,
 "nbformat_minor": 5
}
