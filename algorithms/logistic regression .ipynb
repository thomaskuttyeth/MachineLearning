{
 "cells": [
  {
   "cell_type": "markdown",
   "id": "6926e006",
   "metadata": {},
   "source": [
    "# Logistic regression "
   ]
  },
  {
   "cell_type": "markdown",
   "id": "aeb840a8",
   "metadata": {},
   "source": [
    "1. discriminative / generative algorithms \n",
    "2. sigmoid function \n",
    "3. loss function - log loss \n",
    "4. odds and probabilities \n",
    "5. maximum likelihood estimates \n",
    "6. How we can use gradient descent in logistic regression \n",
    "7. classification problem \n",
    "8. can be used with multi-classification also\n",
    "9. explaining entire flow \n",
    "10. logit and sigmoid "
   ]
  },
  {
   "cell_type": "code",
   "execution_count": null,
   "id": "eb5a8841",
   "metadata": {},
   "outputs": [],
   "source": []
  }
 ],
 "metadata": {
  "kernelspec": {
   "display_name": "Python 3 (ipykernel)",
   "language": "python",
   "name": "python3"
  },
  "language_info": {
   "codemirror_mode": {
    "name": "ipython",
    "version": 3
   },
   "file_extension": ".py",
   "mimetype": "text/x-python",
   "name": "python",
   "nbconvert_exporter": "python",
   "pygments_lexer": "ipython3",
   "version": "3.8.8"
  }
 },
 "nbformat": 4,
 "nbformat_minor": 5
}
