{
 "cells": [
  {
   "cell_type": "markdown",
   "id": "f85213d7",
   "metadata": {},
   "source": [
    "# K-Nearest Neighbour "
   ]
  },
  {
   "cell_type": "markdown",
   "id": "38293ba3",
   "metadata": {},
   "source": [
    "<img src=\"https://cdn-images-1.medium.com/max/587/1*hncgU7vWLBsRvc8WJhxlkQ.png\">"
   ]
  },
  {
   "cell_type": "markdown",
   "id": "74fd0714",
   "metadata": {},
   "source": [
    " * For classification the majority vote of the k closest training points with respect to the input feature vector is taken. \n",
    " * For regression: the value for the test example becomes the weighted average of the values of the k neighours \n",
    " * knn performs well if all the data has same scale \n",
    "\n",
    "### Making K-NN more powerful \n",
    " * A good value for K can be determined by considering a range of K values. \n",
    " * We can use a distance based voting scheme, where closer neighbour have more influence. \n",
    " * can use other distance measures (manhattan, minkowski,hamming ...) \n",
    " \n",
    "### Pros and Cons \n",
    " * simple and powerful. No need for tuning complex parameters to build a model \n",
    " * no training involved. \n",
    " * The quality of the predictions depends on the distance measure. Therefore, the KNN algorithm is suitable for applications for which sufficient domain knowledge is available\n",
    " * expensive and slow. To determine the nearest neibhour of a new point x, must compute the distance to all m trianing samples.\n",
    " \n",
    " \n",
    "### Applications \n",
    "* Hand writen character classification \n",
    "* intrusion detection \n",
    "* fault detection "
   ]
  },
  {
   "cell_type": "markdown",
   "id": "f0f778c2",
   "metadata": {},
   "source": [
    "## Algorithm pseudocode \n",
    "<img src = \"https://www.researchgate.net/profile/Jung-Keun-Hyun/publication/260397165/figure/fig7/AS:214259620421658@1428094882662/Pseudocode-for-KNN-classification.png\">"
   ]
  },
  {
   "cell_type": "markdown",
   "id": "88f46539",
   "metadata": {},
   "source": [
    "## Implimentation "
   ]
  },
  {
   "cell_type": "code",
   "execution_count": 31,
   "id": "0376538a",
   "metadata": {},
   "outputs": [],
   "source": [
    "import numpy as np \n",
    "from collections import Counter \n",
    "\n",
    "# global function \n",
    "def euclidean_distance(x1,x2):\n",
    "    return np.sqrt(np.sum(x1-x2)**2)\n",
    "\n",
    "class KNN:\n",
    "    def __init__(self,k = 3):\n",
    "        self.k = k \n",
    "        \n",
    "    def fit(self,X,y):\n",
    "        self.X_train = X \n",
    "        self.y_train = y \n",
    "    \n",
    "    def predict(self,X):\n",
    "        # X is a multiple input \n",
    "        predicted_labels = [self._predict(x) for x in X]\n",
    "        return np.array(predicted_labels) \n",
    "    \n",
    "    \n",
    "    def _predict(self,x):\n",
    "        # compute the distances \n",
    "        distances = [euclidean_distance(x,x_train) for x_train in self.X_train]\n",
    "        \n",
    "        # sorting and get the k nearest neighbours \n",
    "        k_indices = np.argsort(distances)[0:self.k]\n",
    "        k_nearest_labels = [self.y_train[i] for i in k_indices] \n",
    "        print('indices wrt smallest k distances = ',k_indices,' ---> labels = ',k_nearest_labels)\n",
    "            \n",
    "        # majority vote\n",
    "        most_common = Counter(k_nearest_labels).most_common(1) \n",
    "        return most_common[0][0]    "
   ]
  },
  {
   "cell_type": "code",
   "execution_count": 32,
   "id": "46aa86a0",
   "metadata": {},
   "outputs": [],
   "source": [
    "# example \n",
    "import numpy as np \n",
    "from sklearn import datasets \n",
    "from sklearn.model_selection import train_test_split \n",
    "import matplotlib.pyplot as plt \n",
    "\n",
    "iris = datasets.load_iris() \n",
    "X,y = iris.data, iris.target\n",
    "X_train, X_test, y_train,y_test = train_test_split(X,y, test_size = 0.2, random_state = 2) \n"
   ]
  },
  {
   "cell_type": "code",
   "execution_count": 33,
   "id": "6e318fb3",
   "metadata": {},
   "outputs": [],
   "source": [
    "knn_model = KNN()\n",
    "knn_model.fit(X_train,y_train)"
   ]
  },
  {
   "cell_type": "code",
   "execution_count": 34,
   "id": "385b5f9f",
   "metadata": {},
   "outputs": [
    {
     "name": "stdout",
     "output_type": "stream",
     "text": [
      "indices wrt smallest k distances =  [30 55 53]  ---> labels =  [0, 0, 0]\n",
      "indices wrt smallest k distances =  [117 110  48]  ---> labels =  [0, 0, 0]\n",
      "indices wrt smallest k distances =  [118  74 109]  ---> labels =  [1, 2, 1]\n",
      "indices wrt smallest k distances =  [117 110  48]  ---> labels =  [0, 0, 0]\n",
      "indices wrt smallest k distances =  [ 69 103  16]  ---> labels =  [0, 0, 0]\n",
      "indices wrt smallest k distances =  [ 26  78 114]  ---> labels =  [2, 2, 2]\n",
      "indices wrt smallest k distances =  [76 55 30]  ---> labels =  [0, 0, 0]\n",
      "indices wrt smallest k distances =  [106  83  96]  ---> labels =  [2, 2, 2]\n",
      "indices wrt smallest k distances =  [ 96 106  83]  ---> labels =  [2, 2, 2]\n",
      "indices wrt smallest k distances =  [ 48 117 110]  ---> labels =  [0, 0, 0]\n",
      "indices wrt smallest k distances =  [116  37  24]  ---> labels =  [0, 0, 0]\n",
      "indices wrt smallest k distances =  [ 99  73 117]  ---> labels =  [0, 0, 0]\n",
      "indices wrt smallest k distances =  [53 48 30]  ---> labels =  [0, 0, 0]\n",
      "indices wrt smallest k distances =  [43 54 98]  ---> labels =  [0, 1, 0]\n",
      "indices wrt smallest k distances =  [31 89 87]  ---> labels =  [2, 2, 2]\n",
      "indices wrt smallest k distances =  [ 97 115  88]  ---> labels =  [1, 1, 1]\n",
      "indices wrt smallest k distances =  [29 73 99]  ---> labels =  [0, 0, 0]\n",
      "indices wrt smallest k distances =  [112  36  93]  ---> labels =  [1, 1, 1]\n",
      "indices wrt smallest k distances =  [ 12  70 102]  ---> labels =  [2, 2, 2]\n",
      "indices wrt smallest k distances =  [ 2 64 33]  ---> labels =  [1, 1, 1]\n",
      "indices wrt smallest k distances =  [84 72 81]  ---> labels =  [1, 2, 1]\n",
      "indices wrt smallest k distances =  [10 67  7]  ---> labels =  [1, 1, 1]\n",
      "indices wrt smallest k distances =  [111  22  58]  ---> labels =  [2, 2, 2]\n",
      "indices wrt smallest k distances =  [32 79 93]  ---> labels =  [1, 1, 1]\n",
      "indices wrt smallest k distances =  [38  4 92]  ---> labels =  [1, 1, 1]\n",
      "indices wrt smallest k distances =  [55 30 53]  ---> labels =  [0, 0, 0]\n",
      "indices wrt smallest k distances =  [117 110  48]  ---> labels =  [0, 0, 0]\n",
      "indices wrt smallest k distances =  [71 82 90]  ---> labels =  [2, 1, 1]\n",
      "indices wrt smallest k distances =  [ 5 98 39]  ---> labels =  [0, 0, 0]\n",
      "indices wrt smallest k distances =  [ 12  70 102]  ---> labels =  [2, 2, 2]\n"
     ]
    },
    {
     "data": {
      "text/plain": [
       "array([0, 0, 1, 0, 0, 2, 0, 2, 2, 0, 0, 0, 0, 0, 2, 1, 0, 1, 2, 1, 1, 1,\n",
       "       2, 1, 1, 0, 0, 1, 0, 2])"
      ]
     },
     "execution_count": 34,
     "metadata": {},
     "output_type": "execute_result"
    }
   ],
   "source": [
    "knn_model.predict(X_test)"
   ]
  },
  {
   "cell_type": "code",
   "execution_count": 38,
   "id": "ef51f13e",
   "metadata": {},
   "outputs": [
    {
     "data": {
      "text/plain": [
       "array([0, 0, 2, 0, 0, 2, 0, 2, 2, 0, 0, 0, 0, 0, 1, 1, 0, 1, 2, 1, 1, 1,\n",
       "       2, 1, 1, 0, 0, 2, 0, 2])"
      ]
     },
     "execution_count": 38,
     "metadata": {},
     "output_type": "execute_result"
    }
   ],
   "source": [
    "y_test"
   ]
  },
  {
   "cell_type": "code",
   "execution_count": null,
   "id": "07122785",
   "metadata": {},
   "outputs": [],
   "source": []
  }
 ],
 "metadata": {
  "kernelspec": {
   "display_name": "Python 3 (ipykernel)",
   "language": "python",
   "name": "python3"
  },
  "language_info": {
   "codemirror_mode": {
    "name": "ipython",
    "version": 3
   },
   "file_extension": ".py",
   "mimetype": "text/x-python",
   "name": "python",
   "nbconvert_exporter": "python",
   "pygments_lexer": "ipython3",
   "version": "3.8.8"
  }
 },
 "nbformat": 4,
 "nbformat_minor": 5
}
