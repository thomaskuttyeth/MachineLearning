{
 "cells": [
  {
   "cell_type": "markdown",
   "id": "54df9b97-ef72-43d6-a85b-32edb985a20a",
   "metadata": {
    "tags": []
   },
   "source": [
    "# <font color = 'darkblue' > K means clustering\n",
    "<a href = \"https://www.youtube.com/watch?v=esmzYhuFnds\">MIT Clustering Lecture </a> "
   ]
  },
  {
   "cell_type": "code",
   "execution_count": 21,
   "id": "d0026e6a-16e5-442a-93e9-e634e44eaa0c",
   "metadata": {},
   "outputs": [],
   "source": [
    "from sklearn.cluster import KMeans\n",
    "import numpy as np\n",
    "# number of clusters that the algorithm must find \n",
    "k = 3 \n",
    "from sklearn.datasets import load_iris\n",
    "data = load_iris()\n",
    "X = data['data']\n",
    "y = data['target']\n",
    "kmeans = KMeans(n_clusters = k) \n",
    "y_pred = kmeans.fit_predict(X)"
   ]
  },
  {
   "cell_type": "markdown",
   "id": "c84d5230-8258-4a89-8de2-1eaddc4eb7ec",
   "metadata": {},
   "source": [
    "* Each instance is assigned to one of the clusters. In the context of clustering, an instance's label is the index of the cluster that this instance gets assigned to by the algorithm; "
   ]
  },
  {
   "cell_type": "code",
   "execution_count": 22,
   "id": "48190086-8413-4e6e-ae65-57ca7dc046e6",
   "metadata": {},
   "outputs": [],
   "source": [
    "y_pred = kmeans.fit_predict(X)"
   ]
  },
  {
   "cell_type": "code",
   "execution_count": 23,
   "id": "9583df8b-548f-4c37-b1a7-e434cd3a0952",
   "metadata": {},
   "outputs": [
    {
     "data": {
      "text/plain": [
       "array([[6.85      , 3.07368421, 5.74210526, 2.07105263],\n",
       "       [5.006     , 3.428     , 1.462     , 0.246     ],\n",
       "       [5.9016129 , 2.7483871 , 4.39354839, 1.43387097]])"
      ]
     },
     "execution_count": 23,
     "metadata": {},
     "output_type": "execute_result"
    }
   ],
   "source": [
    "kmeans.cluster_centers_ \n",
    "# we got the three centroid vectors"
   ]
  },
  {
   "cell_type": "code",
   "execution_count": 24,
   "id": "5e57a31b-55e8-4bd2-a47b-ce887f3b620c",
   "metadata": {},
   "outputs": [],
   "source": [
    "# we can easily assign new instances to the cluster whose centroid is closest "
   ]
  },
  {
   "cell_type": "code",
   "execution_count": 25,
   "id": "178fa129-18bb-4857-b87f-2bee7c91faac",
   "metadata": {},
   "outputs": [
    {
     "data": {
      "text/plain": [
       "array([1])"
      ]
     },
     "execution_count": 25,
     "metadata": {},
     "output_type": "execute_result"
    }
   ],
   "source": [
    "X_new = np.array([5.6,2.3,2.3,1.3]).reshape(1,-1)\n",
    "kmeans.predict(X_new) \n",
    "# we got the prediction as 1 : test data belongs to the 1st cluster "
   ]
  },
  {
   "cell_type": "markdown",
   "id": "07e2f537-8ce0-45ca-b17e-ea5856e38ded",
   "metadata": {},
   "source": [
    "Instead of assigning each instance to a single cluster, which is called **hard clustering**, it can be useful to jsut give each instance a score per cluster; this is called **soft clustering**. For example, the score can be the distance between the instance and the centroid, or conversely it can be a **similarity score (affinity)** such as the **Gaussian Radial Basis Funtion** In the Kmeans class , the transform() method measures the distance from each instance to every centroid; "
   ]
  },
  {
   "cell_type": "code",
   "execution_count": 26,
   "id": "9634f56c-3954-47b5-85db-3e37b54b1fc5",
   "metadata": {},
   "outputs": [
    {
     "data": {
      "text/plain": [
       "array([[3.82147852, 1.85428692, 2.16630737]])"
      ]
     },
     "execution_count": 26,
     "metadata": {},
     "output_type": "execute_result"
    }
   ],
   "source": [
    "kmeans.transform(X_new)\n",
    "# represents that the x_new data is located at distance 2.16 from the first cluster, \n",
    "# 1.85 from the second cluster and so on . "
   ]
  },
  {
   "cell_type": "markdown",
   "id": "8a808edf-b241-4894-8734-5ba2bdc32b0e",
   "metadata": {},
   "source": [
    "If you have a high-dimensional dataset and you transform it this way, you end up with a k-dimensional dataset; this can be a very efficient non-linear dimensionality reduction technique. "
   ]
  },
  {
   "cell_type": "markdown",
   "id": "f15fe4f6-e641-41d8-a453-cce1a24c70fd",
   "metadata": {},
   "source": [
    "## <font color= 'darkblue '> The K-Means Algorithm \n",
    "We start by placing centroids randomly ( by picking k instances at random and using their locations as centroids). "
   ]
  },
  {
   "cell_type": "markdown",
   "id": "d0043874-f77d-4ed4-94bd-a898bb0ff426",
   "metadata": {},
   "source": [
    "The computational compolexity of the algorithm is generally linear with regards to the number of instances m, the number of clusters k and the number of dimensions n. However, this is only true when the data has a clustering structure. If it does not, then in the worst case scenario the complexity can incrase exponentially with the number of instances. In practice, however this rarely happens, and k menas is gnerally one of the fastest clustering algorithm. \n",
    "\n",
    "Unfortunately although the algorithm is guaranteed to converge, it may not converge to the right solution( it may converge to a local optimum); this depends on the centroid initialization. "
   ]
  },
  {
   "cell_type": "code",
   "execution_count": 27,
   "id": "1f6af566-f8b0-4801-9620-0aa3d45abe88",
   "metadata": {},
   "outputs": [],
   "source": [
    "initial_clusters = np.array([\n",
    "    [5.9016129 , 2.7483871 , 4.39354839, 1.43387097],\n",
    "    [5.006     , 3.428     , 1.462     , 0.246     ],\n",
    "    [6.85      , 3.07368421, 5.74210526, 2.07105263]\n",
    "])\n",
    "kmeans = KMeans(n_clusters = 3, init = initial_clusters, n_init = 1)"
   ]
  },
  {
   "cell_type": "code",
   "execution_count": 28,
   "id": "e52f50b7-6a6a-4f6d-a026-932da419e29c",
   "metadata": {},
   "outputs": [
    {
     "data": {
      "text/plain": [
       "78.851441426146"
      ]
     },
     "execution_count": 28,
     "metadata": {},
     "output_type": "execute_result"
    }
   ],
   "source": [
    "kmeans.fit(X) # after fitting lets check the inertia_\n",
    "kmeans.inertia_"
   ]
  },
  {
   "cell_type": "code",
   "execution_count": 29,
   "id": "f2906ca3-c4e7-44e5-be7e-05b2a55328c6",
   "metadata": {},
   "outputs": [
    {
     "data": {
      "text/plain": [
       "-78.85144142614602"
      ]
     },
     "execution_count": 29,
     "metadata": {},
     "output_type": "execute_result"
    }
   ],
   "source": [
    "kmeans.score(X)"
   ]
  },
  {
   "cell_type": "markdown",
   "id": "efd6b465-9162-4dfa-9b20-c0584e9eb1eb",
   "metadata": {},
   "source": [
    "How we measure the performance of clusters. It is called the models's inertia: this is the mean sqaured distance between each instance and its closest centroid. "
   ]
  },
  {
   "cell_type": "markdown",
   "id": "8a55fafb-8c3e-453a-b8c3-6ff66bf17173",
   "metadata": {},
   "source": [
    "## <font color = \"darkblue\"> What is kmeans ++ "
   ]
  },
  {
   "cell_type": "markdown",
   "id": "bf731530-d5a5-4404-be3a-80d770e4f8fe",
   "metadata": {},
   "source": [
    "Instead of choosing initial cluster centers randomly, choose them smarter!\n",
    "* randomly choose one of the observations to be a cluster center. \n",
    "* for each observation x, determine d(x) where d(x) denotes the minimal distance from x to a current cluster center. \n",
    "* choose next cluster center from the data points, with probability of making an observation x a cluster center proportional to d(x)**2\n",
    "* repeat 2 and 3 until you have chosen the right number of clusters"
   ]
  },
  {
   "cell_type": "markdown",
   "id": "2ef01708-fbf9-47e1-8062-0695589c8348",
   "metadata": {},
   "source": [
    "KMeans class actually uses this initialization method by default. If you want to force it to use the original  method then you can set the init hyperparameter  to \"random\". You will rarely need to do this. "
   ]
  },
  {
   "cell_type": "markdown",
   "id": "eb3ddf59-ded9-453a-a55e-437bd37184ae",
   "metadata": {},
   "source": [
    "## <font color = \"darkblue\"> MiniBatch KMeans Clustering "
   ]
  },
  {
   "cell_type": "markdown",
   "id": "6a89dae4-679b-4e06-8b63-60305053bed1",
   "metadata": {},
   "source": [
    "Instead of using the full dataset at each iteration, the algorithm is capable of using mini-batches, moving the centroids just slightly at each iteration. This speeds up the algorithm typically by a factor of 3 or 4 and makes it possible to cluster huge datasets that do not fit in memory. Scikit-Learn implements this algorithm in the MiniBatchKMeans class. "
   ]
  },
  {
   "cell_type": "code",
   "execution_count": 30,
   "id": "696c70bb-cea9-44cf-a5de-fb20e60b8c74",
   "metadata": {},
   "outputs": [
    {
     "data": {
      "text/plain": [
       "MiniBatchKMeans(batch_size=2048, n_clusters=5)"
      ]
     },
     "execution_count": 30,
     "metadata": {},
     "output_type": "execute_result"
    }
   ],
   "source": [
    "from sklearn.cluster import MiniBatchKMeans\n",
    "minibatch_kmeans = MiniBatchKMeans(n_clusters=5,batch_size = 2048)\n",
    "minibatch_kmeans.fit(X)"
   ]
  },
  {
   "cell_type": "markdown",
   "id": "25feb41b-a579-4d0e-82b2-0bf03988845f",
   "metadata": {},
   "source": [
    "## <font color = \"darkblue\"> Selecting the optimal number of clusters using elbow rule"
   ]
  },
  {
   "cell_type": "markdown",
   "id": "a22bd4f8-0c90-4904-b9c2-dc29a3c1e0b7",
   "metadata": {},
   "source": [
    "As we can see, the inertia drops very quickly as we increase k up to 4, but then it decreases much more slowly as we keep increasing k. This curve has roughly the shape of an arm, and there is an elbow at k=4 so if we did not know better, it would be a good choice; any lower value would be dramatic, while any higher value would not help much, and we might just be splitting perfectly good clusters in half for no reason. \n",
    "\n",
    " * In Elbow method, we compute the WCSS(the summ of sqaured distance between each point and the centroid in a cluster). When we plot the WCSS(within cluster sum of squares) with the k value, the plot looks like an elbow. As the number of clusters increases, the WCSS value will start to decrease.WCSS value is largest when k=1. When we analyze the graph we can see that the graph will rapidly change at a point and thus creating an elbow shape. From this point, the graph starts to move almost parallel to the x-axis. The k value corresponding to this point is the optimal k vlaue or an optimal number of clusters."
   ]
  },
  {
   "cell_type": "code",
   "execution_count": 38,
   "id": "45463c64",
   "metadata": {},
   "outputs": [
    {
     "data": {
      "text/plain": [
       "Text(0, 0.5, 'WCSS')"
      ]
     },
     "execution_count": 38,
     "metadata": {},
     "output_type": "execute_result"
    },
    {
     "data": {
      "image/png": "[encoded data removed]",
      "text/plain": [
       "<Figure size 576x396 with 1 Axes>"
      ]
     },
     "metadata": {},
     "output_type": "display_data"
    }
   ],
   "source": [
    "wcss = [] \n",
    "for i in range(3, 12): \n",
    "    kmeans = KMeans(n_clusters = i, init = 'k-means++', random_state = 42)\n",
    "    kmeans.fit(X) \n",
    "    wcss.append(kmeans.inertia_)\n",
    "import matplotlib.pyplot as plt\n",
    "plt.plot(range(3,12), wcss)\n",
    "plt.xlabel('Number of clusters')\n",
    "plt.ylabel('WCSS')"
   ]
  },
  {
   "cell_type": "markdown",
   "id": "805670ea-2529-4fd8-8769-b31fe0500a2e",
   "metadata": {},
   "source": [
    "## <font color = \"darkblue\"> Silhouette Score "
   ]
  },
  {
   "cell_type": "markdown",
   "id": "62cdad49-d907-4a63-9f5e-e3858c07f814",
   "metadata": {},
   "source": [
    "A more precise approach ( but more computationally expensive ) is to use the silhouette score, which is the mean silhouette coefficient over all the instances. An instance's silhouette coefficient is equal to (b-a)/max(a,b) where a is the mean distances to the other instances in the same cluster ( intra-cluster distance) and b is the mean nearest-cluster distance, that is the mean distance to the instances of the next closest cluster. \n",
    "* The silhouette coefficient can vary between -1 and +1: a coefficient close to +1 means that the instance is well inside its own cluster and far from other clusters, while a coefficient close to 0 means that it is close to a cluster boundary, and finally a coefficient close to -1 means that the instance may have been assigned to the wrong cluster. \n",
    " * Intuitively, silhouette score determines whether there are large gaps between each sample and all other samples within the same cluster or across different clusters. "
   ]
  },
  {
   "cell_type": "code",
   "execution_count": 14,
   "id": "e831532c-d09b-4a70-8a03-7795df904641",
   "metadata": {},
   "outputs": [
    {
     "data": {
      "text/plain": [
       "0.5528190123564091"
      ]
     },
     "execution_count": 14,
     "metadata": {},
     "output_type": "execute_result"
    }
   ],
   "source": [
    "from sklearn.metrics import silhouette_score\n",
    "silhouette_score(X,kmeans.labels_)"
   ]
  },
  {
   "cell_type": "code",
   "execution_count": 19,
   "id": "b1e1d943-1b3b-491c-aa6c-9276885f2d0b",
   "metadata": {},
   "outputs": [
    {
     "data": {
      "image/png": "[encoded data removed]",
      "text/plain": [
       "<Figure size 576x396 with 1 Axes>"
      ]
     },
     "metadata": {},
     "output_type": "display_data"
    },
    {
     "data": {
      "text/plain": [
       "SilhouetteVisualizer(ax=<AxesSubplot:title={'center':'Silhouette Plot of KMeans Clustering for 150 Samples in 3 Centers'}, xlabel='silhouette coefficient values', ylabel='cluster label'>,\n",
       "                     colors='yellowbrick',\n",
       "                     estimator=KMeans(init=array([[5.9016129 , 2.7483871 , 4.39354839, 1.43387097],\n",
       "       [5.006     , 3.428     , 1.462     , 0.246     ],\n",
       "       [6.85      , 3.07368421, 5.74210526, 2.07105263]]),\n",
       "                                      n_clusters=3, n_init=1))"
      ]
     },
     "execution_count": 19,
     "metadata": {},
     "output_type": "execute_result"
    }
   ],
   "source": [
    "from sklearn.metrics import silhouette_samples\n",
    "sample_silhouette_scores = silhouette_samples(X, kmeans.labels_)\n",
    "from yellowbrick.cluster import silhouette_visualizer\n",
    "silhouette_visualizer(kmeans, X, colors='yellowbrick')"
   ]
  },
  {
   "cell_type": "markdown",
   "id": "16760e91-d985-441f-b627-9f49ede7ffd5",
   "metadata": {},
   "source": [
    "## <font color = \"darkblue\"> Limits and Merits of kmeans "
   ]
  },
  {
   "cell_type": "markdown",
   "id": "ad8f1703-993c-4005-8bcd-a91014c5951d",
   "metadata": {},
   "source": [
    "It is necessary to run the algorithm several times to avoid sub-optimal solutions, plus we need to specify the number of clusters, which can be quite a hassle. Moreover kmeans does not behave very well when the clusters, have varying sizes, different densities, or non-spherical shapes. So depending on the data, different clustering algorithms may perform better. For example, on these types of elliptical clusters Gaussian mixture models work great. "
   ]
  },
  {
   "cell_type": "markdown",
   "id": "4f04423f-2aa0-4ae0-a5c0-d90587fe4bbc",
   "metadata": {},
   "source": [
    "* it is good to scale the input features before we run kmeans,\n",
    "* sensitive to outliers \n",
    "* sensitive to the initialization process.\n",
    "* we need to provide the number of clusters as an input variable to the algorithm \n",
    "----------------------------------------------------\n",
    "* easy to understand and implement \n",
    "* guranteed convergence "
   ]
  },
  {
   "cell_type": "markdown",
   "id": "82f26674",
   "metadata": {},
   "source": [
    "## Questions "
   ]
  },
  {
   "cell_type": "markdown",
   "id": "e68b0416",
   "metadata": {},
   "source": [
    "##### Is feature Scaling required for the k means algorithm? \n",
    "kmeans typically needs to have some form of normalization done on the datasets to work properly since it is sensitive to both the mean and variance of the datasets.\n",
    "##### Why do we prefer euclidean distance over manhattan distance in kmeans \n",
    "Euclidean distance is preferred over Manhattan distance since Manhattan distance calculates distance only vertically or horizontally due to which it has dimension restrictions.\n",
    "\n",
    "On the contrary, Euclidean distance can be used in any space to calculate the distances between the data points. Since in K means algorithm the data points can be present in any dimension, so Euclidean distance is a more suitable option.\n",
    "\n",
    "#### Optimization Function for the Kmeans\n",
    "The objective of the K-Means algorithm is to find k number of centroids from C1,C2, ... CN, which minimized the within cluster sum of sqaures. \n",
    "#### Ways of avoid the problem of initializatoin sensitivity\n",
    "It is a smart centroid initialization tenchnique. The convergence is faster in KMeans++ \n",
    "#### Convergence \n",
    "when the algorithm reaches the global or local minima, the centroids wont change significantly. The points stay in the same cluster ie. the algorithm has converged at the minima\n",
    "#### Curse of dimensionality in kmeans \n",
    "A key component of K means is that the distance-based computations are directly impacted by a large number of dimensions since the distances between a data point and its nearest and farthest neighbours can become equidistant in high dimension thereby resulting in reduced accuracy of distance-based analysis tools.\n",
    "\n",
    "#### Complexity \n",
    "k*n*d (lesser than 0(n2)"
   ]
  },
  {
   "cell_type": "code",
   "execution_count": null,
   "id": "ff521002",
   "metadata": {},
   "outputs": [],
   "source": []
  }
 ],
 "metadata": {
  "kernelspec": {
   "display_name": "Python 3 (ipykernel)",
   "language": "python",
   "name": "python3"
  },
  "language_info": {
   "codemirror_mode": {
    "name": "ipython",
    "version": 3
   },
   "file_extension": ".py",
   "mimetype": "text/x-python",
   "name": "python",
   "nbconvert_exporter": "python",
   "pygments_lexer": "ipython3",
   "version": "3.9.7"
  }
 },
 "nbformat": 4,
 "nbformat_minor": 5
}
