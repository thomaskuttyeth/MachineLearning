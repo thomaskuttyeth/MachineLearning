{
 "cells": [
  {
   "cell_type": "code",
   "execution_count": 1,
   "id": "d4427a14",
   "metadata": {},
   "outputs": [],
   "source": [
    "import pandas as pd\n",
    "import os \n",
    "import numpy as np\n",
    "from sklearn.model_selection import train_test_split\n",
    "from sklearn.ensemble import RandomForestClassifier,GradientBoostingClassifier,AdaBoostClassifier\n",
    "from sklearn.discriminant_analysis import LinearDiscriminantAnalysis\n",
    "from sklearn.svm import SVC\n",
    "from matplotlib  import pyplot as plt\n",
    "\n",
    "from sklearn.linear_model import LogisticRegression\n",
    "from sklearn.metrics import classification_report\n",
    "import matplotlib.pyplot as plt\n",
    "import joblib\n",
    "import time\n",
    "import random\n",
    "from decile_analysis import *  # custom module for decile analysis \n",
    "import warnings\n",
    "warnings.filterwarnings('ignore')\n",
    "import seaborn as sns\n",
    "from sklearn.metrics import recall_score\n",
    "from tabulate import tabulate\n",
    "tab = lambda df : print(tabulate(df,headers = 'keys',tablefmt = 'psql'))\n",
    "\n",
    "\n",
    "from sklearn.preprocessing import StandardScaler \n",
    "from sklearn.neighbors import NearestNeighbors \n",
    "\n",
    "from sklearn.cluster import DBSCAN \n",
    "from sklearn.mixture import GaussianMixture \n",
    "from sklearn.metrics import silhouette_score\n",
    "from sklearn.preprocessing import RobustScaler\n",
    "from imblearn.over_sampling import SMOTE\n",
    "df = pd.read_csv('data.csv')\n",
    "df.columns = [i.lower() for i in df.columns]\n",
    "pd.options.display.width=None"
   ]
  },
  {
   "cell_type": "code",
   "execution_count": 2,
   "id": "8d471d2e",
   "metadata": {},
   "outputs": [
    {
     "name": "stdout",
     "output_type": "stream",
     "text": [
      "X_train shape : (1259, 23)\n",
      "y_train shape : (1259,)\n",
      "X_test shape : (315, 23)\n",
      "y_test shape : (315,)\n"
     ]
    },
    {
     "data": {
      "image/png": "[encoded data removed]",
      "text/plain": [
       "<Figure size 432x288 with 1 Axes>"
      ]
     },
     "metadata": {
      "needs_background": "light"
     },
     "output_type": "display_data"
    }
   ],
   "source": [
    "data = df\n",
    "selected_features = ['limit_bal', 'sex', 'education', 'marriage', 'age', 'pay_0', 'pay_2',\n",
    "       'pay_3', 'pay_4', 'pay_5', 'pay_6', 'bill_amt1', 'bill_amt2',\n",
    "       'bill_amt3', 'bill_amt4', 'bill_amt5', 'bill_amt6', 'pay_amt1',\n",
    "       'pay_amt2', 'pay_amt3', 'pay_amt4', 'pay_amt5', 'pay_amt6']\n",
    "target = 'default payment next month'\n",
    "X = data[selected_features]\n",
    "y = data['default payment next month']\n",
    "\n",
    "oversample = SMOTE()\n",
    "X, y = oversample.fit_resample(X, y)\n",
    "\n",
    "X_train,X_test,y_train,y_test = train_test_split(X,y,random_state=1,test_size=0.2)\n",
    "print('X_train shape :',X_train.shape)\n",
    "print('y_train shape :',y_train.shape)\n",
    "print('X_test shape :',X_test.shape)\n",
    "print('y_test shape :',y_test.shape)\n",
    "\n",
    "\n",
    "plt.title('Target class counts')\n",
    "classes = y_train.value_counts().index\n",
    "counts = y_train.value_counts()\n",
    "plt.bar(x =classes,height = counts,color  = '#28496b')\n",
    "plt.xticks(classes)\n",
    "plt.show()"
   ]
  },
  {
   "cell_type": "code",
   "execution_count": 3,
   "id": "d923b6ec",
   "metadata": {},
   "outputs": [],
   "source": [
    "# Modelling \n",
    "models = [RandomForestClassifier,GradientBoostingClassifier,AdaBoostClassifier,\n",
    "              LinearDiscriminantAnalysis,SVC,LogisticRegression]\n",
    "random.seed(121)\n",
    "def Model_training(models):\n",
    "    random.seed(121)\n",
    "    training_scores = {}\n",
    "    testing_scores = {}\n",
    "    testing_recall_scores = {}\n",
    "    training_recall_scores = {}\n",
    "    for model in models:\n",
    "        m = model()\n",
    "        m.fit(X_train,y_train)\n",
    "        y_pred_test = m.predict(X_test)\n",
    "        y_pred_train = m.predict(X_train)\n",
    "        \n",
    "        # average scores \n",
    "        training_score = m.score(X_train,y_train)\n",
    "        testing_score = m.score(X_test,y_test)\n",
    "        training_scores[model.__name__] = training_score\n",
    "        testing_scores[model.__name__] = testing_score\n",
    "        \n",
    "        # recall measures \n",
    "        training_recall = recall_score(y_train,y_pred_train)\n",
    "        testing_recall = recall_score(y_test,y_pred_test)\n",
    "        \n",
    "    \n",
    "        training_recall_scores[model.__name__] = training_recall\n",
    "        testing_recall_scores[model.__name__] = testing_recall\n",
    "    \n",
    "    measurements = pd.DataFrame()\n",
    "    measurements.index = training_scores.keys()\n",
    "    measurements['training_scores'] = training_scores.values()\n",
    "    measurements['testing_scores'] = testing_scores.values()\n",
    "    measurements['training_recalls'] = training_recall_scores.values()\n",
    "    measurements['testing_recalls'] = testing_recall_scores.values()\n",
    "    \n",
    "    return measurements"
   ]
  },
  {
   "cell_type": "code",
   "execution_count": 4,
   "id": "f104cf9d",
   "metadata": {},
   "outputs": [
    {
     "name": "stdout",
     "output_type": "stream",
     "text": [
      "Evaluation with smote only\n",
      "+----------------------------+-------------------+------------------+--------------------+-------------------+\n",
      "|                            |   training_scores |   testing_scores |   training_recalls |   testing_recalls |\n",
      "|----------------------------+-------------------+------------------+--------------------+-------------------|\n",
      "| RandomForestClassifier     |          1        |         0.88254  |           1        |          0.892617 |\n",
      "| GradientBoostingClassifier |          0.9166   |         0.828571 |           0.915361 |          0.832215 |\n",
      "| AdaBoostClassifier         |          0.797458 |         0.774603 |           0.802508 |          0.778523 |\n",
      "| LinearDiscriminantAnalysis |          0.725179 |         0.733333 |           0.730408 |          0.765101 |\n",
      "| SVC                        |          0.589357 |         0.520635 |           0.695925 |          0.604027 |\n",
      "| LogisticRegression         |          0.572677 |         0.6      |           0.573668 |          0.543624 |\n",
      "+----------------------------+-------------------+------------------+--------------------+-------------------+\n"
     ]
    }
   ],
   "source": [
    "random.seed(1)\n",
    "evaluation_metrics = Model_training(models)\n",
    "print('Evaluation with smote only')\n",
    "tab(evaluation_metrics)\n"
   ]
  },
  {
   "cell_type": "code",
   "execution_count": 5,
   "id": "ee7b41bd",
   "metadata": {},
   "outputs": [
    {
     "name": "stdout",
     "output_type": "stream",
     "text": [
      "Evaluation with smote and less features\n",
      "+----------------------------+-------------------+------------------+--------------------+-------------------+\n",
      "|                            |   training_scores |   testing_scores |   training_recalls |   testing_recalls |\n",
      "|----------------------------+-------------------+------------------+--------------------+-------------------|\n",
      "| RandomForestClassifier     |          0.996823 |         0.828571 |           0.998433 |          0.838926 |\n",
      "| GradientBoostingClassifier |          0.842732 |         0.796825 |           0.819749 |          0.791946 |\n",
      "| AdaBoostClassifier         |          0.756156 |         0.739683 |           0.768025 |          0.758389 |\n",
      "| LinearDiscriminantAnalysis |          0.721207 |         0.714286 |           0.724138 |          0.751678 |\n",
      "| SVC                        |          0.543288 |         0.488889 |           0.532915 |          0.47651  |\n",
      "| LogisticRegression         |          0.493249 |         0.526984 |           0        |          0        |\n",
      "+----------------------------+-------------------+------------------+--------------------+-------------------+\n"
     ]
    }
   ],
   "source": [
    "# with less featurs \n",
    "# Removing some features \n",
    "random.seed(1)\n",
    "selected_features = ['limit_bal', 'sex', 'education', 'marriage', 'age', 'pay_0', 'pay_2',\n",
    "       'pay_3', 'pay_4', 'pay_5', 'pay_6']\n",
    "target = 'default payment next month'\n",
    "X_train = X_train[selected_features]\n",
    "X_test = X_test[selected_features]\n",
    "evaluation_metrics = Model_training(models)\n",
    "print('Evaluation with smote and less features')\n",
    "tab(evaluation_metrics)"
   ]
  },
  {
   "cell_type": "code",
   "execution_count": null,
   "id": "8b8a5650",
   "metadata": {},
   "outputs": [],
   "source": []
  },
  {
   "cell_type": "code",
   "execution_count": null,
   "id": "1d64e3c2",
   "metadata": {},
   "outputs": [],
   "source": []
  },
  {
   "cell_type": "code",
   "execution_count": null,
   "id": "aa17311c",
   "metadata": {},
   "outputs": [],
   "source": []
  },
  {
   "cell_type": "code",
   "execution_count": null,
   "id": "68c06e55",
   "metadata": {},
   "outputs": [],
   "source": []
  },
  {
   "cell_type": "code",
   "execution_count": null,
   "id": "a844a72c",
   "metadata": {},
   "outputs": [],
   "source": []
  }
 ],
 "metadata": {
  "kernelspec": {
   "display_name": "Python 3 (ipykernel)",
   "language": "python",
   "name": "python3"
  },
  "language_info": {
   "codemirror_mode": {
    "name": "ipython",
    "version": 3
   },
   "file_extension": ".py",
   "mimetype": "text/x-python",
   "name": "python",
   "nbconvert_exporter": "python",
   "pygments_lexer": "ipython3",
   "version": "3.9.7"
  }
 },
 "nbformat": 4,
 "nbformat_minor": 5
}
