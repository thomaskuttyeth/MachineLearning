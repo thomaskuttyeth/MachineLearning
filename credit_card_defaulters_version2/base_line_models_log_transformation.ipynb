{
 "cells": [
  {
   "cell_type": "markdown",
   "id": "5ccf71d6",
   "metadata": {},
   "source": [
    "## Required Modules"
   ]
  },
  {
   "cell_type": "code",
   "execution_count": 1,
   "id": "3b417f2a",
   "metadata": {
    "tags": []
   },
   "outputs": [],
   "source": [
    "import pandas as pd\n",
    "import os \n",
    "import numpy as np\n",
    "from sklearn.model_selection import train_test_split\n",
    "from sklearn.ensemble import RandomForestClassifier,GradientBoostingClassifier,AdaBoostClassifier\n",
    "from sklearn.discriminant_analysis import LinearDiscriminantAnalysis\n",
    "from sklearn.svm import SVC\n",
    "from matplotlib  import pyplot as plt\n",
    "\n",
    "from sklearn.linear_model import LogisticRegression\n",
    "from sklearn.metrics import classification_report\n",
    "import matplotlib.pyplot as plt\n",
    "import joblib\n",
    "import time\n",
    "import random\n",
    "from decile_analysis import *  # custom module for decile analysis \n",
    "import warnings\n",
    "warnings.filterwarnings('ignore')\n",
    "import seaborn as sns\n",
    "from sklearn.metrics import recall_score\n",
    "from tabulate import tabulate\n",
    "tab = lambda df : print(tabulate(df,headers = 'keys',tablefmt = 'psql'))\n",
    "df = pd.read_csv('data.csv')\n",
    "df.columns = [i.lower() for i in df.columns]\n",
    "pd.options.display.width=None\n"
   ]
  },
  {
   "cell_type": "code",
   "execution_count": 2,
   "id": "1d9abc83",
   "metadata": {},
   "outputs": [
    {
     "data": {
      "text/plain": [
       "24"
      ]
     },
     "execution_count": 2,
     "metadata": {},
     "output_type": "execute_result"
    }
   ],
   "source": [
    "len(df.columns)"
   ]
  },
  {
   "cell_type": "markdown",
   "id": "69238350",
   "metadata": {},
   "source": [
    "## Baseline Models With Logarithmic Transformations"
   ]
  },
  {
   "cell_type": "code",
   "execution_count": 23,
   "id": "b540dd05",
   "metadata": {},
   "outputs": [
    {
     "name": "stdout",
     "output_type": "stream",
     "text": [
      "[INFO]:converting bill_amt1 column\n",
      "[INFO]:converting bill_amt2 column\n",
      "[INFO]:converting bill_amt3 column\n",
      "[INFO]:converting bill_amt4 column\n",
      "[INFO]:converting bill_amt5 column\n",
      "[INFO]:converting bill_amt6 column\n",
      "[INFO]:converting pay_amt1 column\n",
      "[INFO]:converting pay_amt2 column\n",
      "[INFO]:converting pay_amt3 column\n",
      "[INFO]:converting pay_amt4 column\n",
      "[INFO]:converting pay_amt5 column\n",
      "[INFO]:converting pay_amt6 column\n",
      "[INFO]: completed transformation\n"
     ]
    }
   ],
   "source": [
    "# preprocessing\n",
    "\n",
    "def preprocess_with_log_transformation():\n",
    "    # logarthmic transformation of the limit balance columns \n",
    "    log_trans_cols = [i for i in df.columns if (i.startswith('bill_amt') or i.startswith('pay_amt'))]\n",
    "    def converting_zero(df,cols):\n",
    "        for i in cols:\n",
    "            for indx in range(len(df[i])):\n",
    "                if df[i].iloc[indx] == 0 or df[i].iloc[indx]<0:\n",
    "                    df[i].iloc[indx] = 1\n",
    "        return df\n",
    "    \n",
    "    converted_df = converting_zero(df,log_trans_cols)\n",
    "    def apply_log(df,cols):\n",
    "        for i in cols:\n",
    "            print(f'[INFO]:converting {i} column')\n",
    "            df[i] = np.log(df[i])\n",
    "        print('[INFO]: completed transformation')\n",
    "        return df\n",
    "    log_df = apply_log(converted_df,log_trans_cols)\n",
    "    for i in range(len(log_df['limit_bal'])):\n",
    "        if log_df['limit_bal'].iloc[0] == 0:\n",
    "            log_df['limit_bal'] = 1\n",
    "    log_df['limit_bal'] = np.log(log_df['limit_bal'])   \n",
    "    data = log_df\n",
    "    return data\n",
    "\n",
    "data = preprocess_with_log_transformation()"
   ]
  },
  {
   "cell_type": "code",
   "execution_count": 24,
   "id": "ab80ef08",
   "metadata": {},
   "outputs": [
    {
     "name": "stdout",
     "output_type": "stream",
     "text": [
      "X_train shape : (800, 23)\n",
      "y_train shape : (800,)\n",
      "X_test shape : (201, 23)\n",
      "y_test shape : (201,)\n"
     ]
    },
    {
     "data": {
      "image/png": "[encoded data removed]",
      "text/plain": [
       "<Figure size 432x288 with 1 Axes>"
      ]
     },
     "metadata": {
      "needs_background": "light"
     },
     "output_type": "display_data"
    }
   ],
   "source": [
    "selected_features = ['limit_bal', 'sex', 'education', 'marriage', 'age', 'pay_0', 'pay_2',\n",
    "       'pay_3', 'pay_4', 'pay_5', 'pay_6', 'bill_amt1', 'bill_amt2',\n",
    "       'bill_amt3', 'bill_amt4', 'bill_amt5', 'bill_amt6', 'pay_amt1',\n",
    "       'pay_amt2', 'pay_amt3', 'pay_amt4', 'pay_amt5', 'pay_amt6']\n",
    "target = 'default payment next month'\n",
    "X = data[selected_features]\n",
    "y = data['default payment next month']\n",
    "X_train,X_test,y_train,y_test = train_test_split(X,y,random_state=1,test_size=0.2)\n",
    "print('X_train shape :',X_train.shape)\n",
    "print('y_train shape :',y_train.shape)\n",
    "print('X_test shape :',X_test.shape)\n",
    "print('y_test shape :',y_test.shape)\n",
    "\n",
    "\n",
    "plt.title('Target class counts')\n",
    "classes = y_train.value_counts().index\n",
    "counts = y_train.value_counts()\n",
    "plt.bar(x =classes,height = counts,color  = '#28496b')\n",
    "plt.xticks(classes)\n",
    "plt.show()"
   ]
  },
  {
   "cell_type": "code",
   "execution_count": 25,
   "id": "d0a32c6f",
   "metadata": {},
   "outputs": [],
   "source": [
    "models = [RandomForestClassifier,GradientBoostingClassifier,AdaBoostClassifier,\n",
    "              LinearDiscriminantAnalysis,SVC,LogisticRegression]\n",
    "random.seed(121)\n",
    "def Model_training(models):\n",
    "    random.seed(121)\n",
    "    training_scores = {}\n",
    "    testing_scores = {}\n",
    "    testing_recall_scores = {}\n",
    "    training_recall_scores = {}\n",
    "    for model in models:\n",
    "        m = model()\n",
    "        m.fit(X_train,y_train)\n",
    "        y_pred_test = m.predict(X_test)\n",
    "        y_pred_train = m.predict(X_train)\n",
    "        \n",
    "        # average scores \n",
    "        training_score = m.score(X_train,y_train)\n",
    "        testing_score = m.score(X_test,y_test)\n",
    "        training_scores[model.__name__] = training_score\n",
    "        testing_scores[model.__name__] = testing_score\n",
    "        \n",
    "        # recall measures \n",
    "        training_recall = recall_score(y_train,y_pred_train)\n",
    "        testing_recall = recall_score(y_test,y_pred_test)\n",
    "        \n",
    "    \n",
    "        training_recall_scores[model.__name__] = training_recall\n",
    "        testing_recall_scores[model.__name__] = testing_recall\n",
    "    \n",
    "    measurements = pd.DataFrame()\n",
    "    measurements.index = training_scores.keys()\n",
    "    measurements['training_scores'] = training_scores.values()\n",
    "    measurements['testing_scores'] = testing_scores.values()\n",
    "    measurements['training_recalls'] = training_recall_scores.values()\n",
    "    measurements['testing_recalls'] = testing_recall_scores.values()\n",
    "    \n",
    "    return measurements"
   ]
  },
  {
   "cell_type": "code",
   "execution_count": 27,
   "id": "ced4afe3",
   "metadata": {},
   "outputs": [
    {
     "name": "stdout",
     "output_type": "stream",
     "text": [
      "+----------------------------+-------------------+------------------+--------------------+-------------------+\n",
      "|                            |   training_scores |   testing_scores |   training_recalls |   testing_recalls |\n",
      "|----------------------------+-------------------+------------------+--------------------+-------------------|\n",
      "| RandomForestClassifier     |           0.99875 |         0.830846 |           0.99435  |          0.324324 |\n",
      "| GradientBoostingClassifier |           0.9175  |         0.791045 |           0.644068 |          0.351351 |\n",
      "| AdaBoostClassifier         |           0.83125 |         0.800995 |           0.372881 |          0.297297 |\n",
      "| LinearDiscriminantAnalysis |           0.795   |         0.800995 |           0.19209  |          0.162162 |\n",
      "| SVC                        |           0.77875 |         0.81592  |           0        |          0        |\n",
      "| LogisticRegression         |           0.795   |         0.79602  |           0.180791 |          0.135135 |\n",
      "+----------------------------+-------------------+------------------+--------------------+-------------------+\n"
     ]
    }
   ],
   "source": [
    "evaluation_metrics = Model_training(models)\n",
    "tab(evaluation_metrics)"
   ]
  },
  {
   "cell_type": "code",
   "execution_count": null,
   "id": "cc9526bd",
   "metadata": {},
   "outputs": [],
   "source": []
  },
  {
   "cell_type": "code",
   "execution_count": null,
   "id": "18a13fc2",
   "metadata": {},
   "outputs": [],
   "source": []
  },
  {
   "cell_type": "code",
   "execution_count": null,
   "id": "8e0d79ca",
   "metadata": {},
   "outputs": [],
   "source": []
  },
  {
   "cell_type": "code",
   "execution_count": null,
   "id": "5d46dcc8-cf53-42f9-ba6c-0c72c46da035",
   "metadata": {},
   "outputs": [],
   "source": []
  }
 ],
 "metadata": {
  "kernelspec": {
   "display_name": "Python 3 (ipykernel)",
   "language": "python",
   "name": "python3"
  },
  "language_info": {
   "codemirror_mode": {
    "name": "ipython",
    "version": 3
   },
   "file_extension": ".py",
   "mimetype": "text/x-python",
   "name": "python",
   "nbconvert_exporter": "python",
   "pygments_lexer": "ipython3",
   "version": "3.9.7"
  }
 },
 "nbformat": 4,
 "nbformat_minor": 5
}
