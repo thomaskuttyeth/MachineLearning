{
 "cells": [
  {
   "cell_type": "markdown",
   "metadata": {},
   "source": [
    "# <font color = \"darkblue\">DBSCAN - Density Based Spatial Clustering of Applications with Noise\n",
    "<a href= 'https://www.aaai.org/Papers/KDD/1996/KDD96-037.pdf'>Research Paper</a>\n",
    "\n",
    "Consider a set of points in some space to be clustered. Let ε be a parameter specifying the radius of a neighborhood with respect to some point. For the purpose of DBSCAN clustering, the points are classified as core points, (density-) reachable points and outliers, as follows: \n",
    "\n",
    "* a point p is a core point if at least minPts are within distance epsilon of it ( including p) \n",
    "* a point q is directly reachable from p if point q is within distance epsilon form core point p. Points are only said to be directly from core points. \n",
    "* a point q is reachable from p is there is a path p1,...pn with p1=p and pn=q, where each p(i+1) is directly reachable from pi. This implies that the initial point and all points on the path must be core points, with the possible exception of q. \n",
    "* all points not reachable from any other point are outliers or noise points. \n",
    "* so if p is a core point, then it forms a cluster\n",
    "\n",
    "=====================================================\n",
    "* `Border Point`: p is a border point if it does not have at least minpts neighbours within eps  distance of itself, but is a neighbour of a core point. \n",
    "* `Noise`: p is a noise if it does not have at least minpts neighbors within eps distance of itself, and is not a neigbor of a core point.\n",
    "* `Density reachable` : p is density reachable from q if there are a chain of points that are directly density reachable from q to p. \n",
    "* `Directly density reachable`: p is directly density reachable from core-point q if it is in the neighborhood of q. \n",
    "* `Cluster`: choose core point q, a cluster C contains all points density reachable by q. \n",
    "* `Noise` : any point not in a cluster\n",
    "\n",
    "Note: Now if p is a core point, then it forms a cluster together with all points that are reachable from it. Each cluster contains at least one core point, non-core points can be a part of a cluster, but they form its edge, since they cannot be used to reach more points. "
   ]
  },
  {
   "cell_type": "markdown",
   "metadata": {},
   "source": [
    "<img src =\"https://upload.wikimedia.org/wikipedia/commons/thumb/a/af/DBSCAN-Illustration.svg/600px-DBSCAN-Illustration.svg.png\">"
   ]
  },
  {
   "cell_type": "markdown",
   "metadata": {},
   "source": [
    "In this diagram, minPts = 4. Point A and the other red points are core points, because the area surrounding these points in an ε radius contain at least 4 points (including the point itself). Because they are all reachable from one another, they form a single cluster. Points B and C are not core points, but are reachable from A (via other core points) and thus belong to the cluster as well. Point N is a noise point that is neither a core point nor directly-reachable"
   ]
  },
  {
   "cell_type": "markdown",
   "metadata": {},
   "source": [
    "Reachability is not a symmetric relation: by definition, only core points can reach non-core points. The opposite is not true, so a non-core point may be reachable, but nothing can be reached from it. Therefore, a further notion of connectedness is needed to formally define the extent of the clusters found by DBSCAN. Two points p and q are density-connected if there is a point o such that both p and q are reachable from o. Density-connectedness is symmetric.\n",
    "\n",
    "A cluster then satisfies two properties:\n",
    "\n",
    "  * points within the cluster are mutually density-connected.\n",
    "  * If a point is density-reachable from some point of the cluster, it is part of the cluster as well."
   ]
  },
  {
   "cell_type": "markdown",
   "metadata": {},
   "source": [
    "## <font color = \"darkblue\"> Abstract Algorithm \n",
    "* find the points in the eps nbd of every point, and identify the core points.\n",
    "* Find the points which are reachable. \n",
    "* assigning the clusters untill we end up with zero core points"
   ]
  },
  {
   "cell_type": "markdown",
   "metadata": {},
   "source": [
    "## <font color = \"darkblue\"> Main Hyperparameters \n",
    "* Distance metric\n",
    "* Epsilon (eps): Can be choose from the Elbow method\n",
    "* minimum points "
   ]
  },
  {
   "cell_type": "markdown",
   "metadata": {},
   "source": [
    "## <font color = \"darkblue\"> Disadvantages of DBSCAN \n",
    "* Can be less effective in high dimensional data \n",
    "* not great with overlapping/touching clusters \n",
    "* suboptimal when clusters have different densities "
   ]
  },
  {
   "cell_type": "markdown",
   "metadata": {},
   "source": [
    "## <font color = \"darkblue\"> Advantages of DBSCAN \n",
    "* helps you to find the outliers \n",
    "* clusters need not be in a specific shape( all it cares about is the density reachability) \n"
   ]
  },
  {
   "cell_type": "code",
   "execution_count": 33,
   "metadata": {},
   "outputs": [],
   "source": [
    "import warnings\n",
    "warnings.filterwarnings('ignore')\n",
    "\n",
    "import pandas as pd\n",
    "import numpy as np\n",
    "from sklearn.preprocessing import StandardScaler \n",
    "from sklearn.neighbors import NearestNeighbors \n",
    "\n",
    "from sklearn.cluster import DBSCAN \n",
    "from sklearn.mixture import GaussianMixture \n",
    "from sklearn.metrics import silhouette_score \n",
    "import matplotlib.pyplot as plt\n",
    "import seaborn as sns \n",
    "%matplotlib inline"
   ]
  },
  {
   "cell_type": "code",
   "execution_count": 34,
   "metadata": {},
   "outputs": [
    {
     "data": {
      "text/html": [
       "<div>\n",
       "<style scoped>\n",
       "    .dataframe tbody tr th:only-of-type {\n",
       "        vertical-align: middle;\n",
       "    }\n",
       "\n",
       "    .dataframe tbody tr th {\n",
       "        vertical-align: top;\n",
       "    }\n",
       "\n",
       "    .dataframe thead th {\n",
       "        text-align: right;\n",
       "    }\n",
       "</style>\n",
       "<table border=\"1\" class=\"dataframe\">\n",
       "  <thead>\n",
       "    <tr style=\"text-align: right;\">\n",
       "      <th></th>\n",
       "      <th>x</th>\n",
       "      <th>y</th>\n",
       "    </tr>\n",
       "  </thead>\n",
       "  <tbody>\n",
       "    <tr>\n",
       "      <th>0</th>\n",
       "      <td>1.206087</td>\n",
       "      <td>1.847686</td>\n",
       "    </tr>\n",
       "    <tr>\n",
       "      <th>1</th>\n",
       "      <td>0.351919</td>\n",
       "      <td>0.245691</td>\n",
       "    </tr>\n",
       "    <tr>\n",
       "      <th>2</th>\n",
       "      <td>1.201688</td>\n",
       "      <td>0.630774</td>\n",
       "    </tr>\n",
       "    <tr>\n",
       "      <th>3</th>\n",
       "      <td>0.733710</td>\n",
       "      <td>1.364328</td>\n",
       "    </tr>\n",
       "    <tr>\n",
       "      <th>4</th>\n",
       "      <td>1.150745</td>\n",
       "      <td>0.724892</td>\n",
       "    </tr>\n",
       "    <tr>\n",
       "      <th>...</th>\n",
       "      <td>...</td>\n",
       "      <td>...</td>\n",
       "    </tr>\n",
       "    <tr>\n",
       "      <th>195</th>\n",
       "      <td>-1.294810</td>\n",
       "      <td>-0.714977</td>\n",
       "    </tr>\n",
       "    <tr>\n",
       "      <th>196</th>\n",
       "      <td>-1.016569</td>\n",
       "      <td>-0.580077</td>\n",
       "    </tr>\n",
       "    <tr>\n",
       "      <th>197</th>\n",
       "      <td>-0.503654</td>\n",
       "      <td>0.220184</td>\n",
       "    </tr>\n",
       "    <tr>\n",
       "      <th>198</th>\n",
       "      <td>-0.751128</td>\n",
       "      <td>-0.491551</td>\n",
       "    </tr>\n",
       "    <tr>\n",
       "      <th>199</th>\n",
       "      <td>-1.786421</td>\n",
       "      <td>-1.678451</td>\n",
       "    </tr>\n",
       "  </tbody>\n",
       "</table>\n",
       "<p>200 rows × 2 columns</p>\n",
       "</div>"
      ],
      "text/plain": [
       "            x         y\n",
       "0    1.206087  1.847686\n",
       "1    0.351919  0.245691\n",
       "2    1.201688  0.630774\n",
       "3    0.733710  1.364328\n",
       "4    1.150745  0.724892\n",
       "..        ...       ...\n",
       "195 -1.294810 -0.714977\n",
       "196 -1.016569 -0.580077\n",
       "197 -0.503654  0.220184\n",
       "198 -0.751128 -0.491551\n",
       "199 -1.786421 -1.678451\n",
       "\n",
       "[200 rows x 2 columns]"
      ]
     },
     "execution_count": 34,
     "metadata": {},
     "output_type": "execute_result"
    }
   ],
   "source": [
    "data = pd.read_csv('clustering_data.csv')\n",
    "data = data.drop('Unnamed: 0',axis = 1)\n",
    "data"
   ]
  },
  {
   "cell_type": "code",
   "execution_count": 35,
   "metadata": {},
   "outputs": [
    {
     "data": {
      "image/png": "[encoded data removed]",
      "text/plain": [
       "<Figure size 432x288 with 1 Axes>"
      ]
     },
     "metadata": {
      "needs_background": "light"
     },
     "output_type": "display_data"
    }
   ],
   "source": [
    "sns.scatterplot(x = 'x',y = 'y', data =data,color = 'darkblue')\n",
    "plt.show()"
   ]
  },
  {
   "cell_type": "code",
   "execution_count": 36,
   "metadata": {},
   "outputs": [],
   "source": [
    "dbScan = DBSCAN(eps = 0.5, min_samples = 25).fit(data)\n",
    "labels = dbScan.labels_\n",
    "data['cluster'] = labels "
   ]
  },
  {
   "cell_type": "code",
   "execution_count": 37,
   "metadata": {},
   "outputs": [
    {
     "data": {
      "text/plain": [
       "<AxesSubplot:xlabel='x', ylabel='y'>"
      ]
     },
     "execution_count": 37,
     "metadata": {},
     "output_type": "execute_result"
    },
    {
     "data": {
      "image/png": "[encoded data removed]",
      "text/plain": [
       "<Figure size 432x288 with 1 Axes>"
      ]
     },
     "metadata": {},
     "output_type": "display_data"
    }
   ],
   "source": [
    "sns.set_style('whitegrid')\n",
    "plt.box(False)\n",
    "sns.scatterplot(x = 'x',y = 'y', data =data,hue = 'cluster',palette= \"crest\")"
   ]
  },
  {
   "cell_type": "code",
   "execution_count": 55,
   "metadata": {},
   "outputs": [
    {
     "data": {
      "text/plain": [
       "0.6169609560667532"
      ]
     },
     "execution_count": 55,
     "metadata": {},
     "output_type": "execute_result"
    }
   ],
   "source": [
    "# grab only clutered data points \n",
    "df_clustered = data.loc[(data.cluster>=0)]\n",
    "# finding the silhouette_score \n",
    "silhouette_score(df_clustered[['x','y']], df_clustered['cluster'])"
   ]
  },
  {
   "cell_type": "code",
   "execution_count": 57,
   "metadata": {},
   "outputs": [
    {
     "data": {
      "text/plain": [
       "0.3976028470214306"
      ]
     },
     "execution_count": 57,
     "metadata": {},
     "output_type": "execute_result"
    }
   ],
   "source": [
    "# data.iloc[2,1:]  # iloc usage \n",
    "# overall silhoette score \n",
    "silhouette_score(data[['x','y']],data['cluster'])"
   ]
  },
  {
   "cell_type": "markdown",
   "metadata": {},
   "source": [
    "## <font color = \"darkblue\"> Elbow method to find the optimal epsilon value \n",
    "<a href = \"clustering_reference_materials/fastcluster.pdf\">fastcluster</a>"
   ]
  },
  {
   "cell_type": "code",
   "execution_count": 110,
   "metadata": {},
   "outputs": [
    {
     "data": {
      "text/html": [
       "<div>\n",
       "<style scoped>\n",
       "    .dataframe tbody tr th:only-of-type {\n",
       "        vertical-align: middle;\n",
       "    }\n",
       "\n",
       "    .dataframe tbody tr th {\n",
       "        vertical-align: top;\n",
       "    }\n",
       "\n",
       "    .dataframe thead th {\n",
       "        text-align: right;\n",
       "    }\n",
       "</style>\n",
       "<table border=\"1\" class=\"dataframe\">\n",
       "  <thead>\n",
       "    <tr style=\"text-align: right;\">\n",
       "      <th></th>\n",
       "      <th>distances</th>\n",
       "      <th>index</th>\n",
       "    </tr>\n",
       "  </thead>\n",
       "  <tbody>\n",
       "    <tr>\n",
       "      <th>0</th>\n",
       "      <td>0.061378</td>\n",
       "      <td>0</td>\n",
       "    </tr>\n",
       "    <tr>\n",
       "      <th>1</th>\n",
       "      <td>0.082244</td>\n",
       "      <td>1</td>\n",
       "    </tr>\n",
       "    <tr>\n",
       "      <th>2</th>\n",
       "      <td>0.086559</td>\n",
       "      <td>2</td>\n",
       "    </tr>\n",
       "    <tr>\n",
       "      <th>3</th>\n",
       "      <td>0.089579</td>\n",
       "      <td>3</td>\n",
       "    </tr>\n",
       "    <tr>\n",
       "      <th>4</th>\n",
       "      <td>0.089727</td>\n",
       "      <td>4</td>\n",
       "    </tr>\n",
       "    <tr>\n",
       "      <th>...</th>\n",
       "      <td>...</td>\n",
       "      <td>...</td>\n",
       "    </tr>\n",
       "    <tr>\n",
       "      <th>195</th>\n",
       "      <td>0.638670</td>\n",
       "      <td>195</td>\n",
       "    </tr>\n",
       "    <tr>\n",
       "      <th>196</th>\n",
       "      <td>0.674367</td>\n",
       "      <td>196</td>\n",
       "    </tr>\n",
       "    <tr>\n",
       "      <th>197</th>\n",
       "      <td>0.719936</td>\n",
       "      <td>197</td>\n",
       "    </tr>\n",
       "    <tr>\n",
       "      <th>198</th>\n",
       "      <td>0.866762</td>\n",
       "      <td>198</td>\n",
       "    </tr>\n",
       "    <tr>\n",
       "      <th>199</th>\n",
       "      <td>0.948297</td>\n",
       "      <td>199</td>\n",
       "    </tr>\n",
       "  </tbody>\n",
       "</table>\n",
       "<p>200 rows × 2 columns</p>\n",
       "</div>"
      ],
      "text/plain": [
       "     distances  index\n",
       "0     0.061378      0\n",
       "1     0.082244      1\n",
       "2     0.086559      2\n",
       "3     0.089579      3\n",
       "4     0.089727      4\n",
       "..         ...    ...\n",
       "195   0.638670    195\n",
       "196   0.674367    196\n",
       "197   0.719936    197\n",
       "198   0.866762    198\n",
       "199   0.948297    199\n",
       "\n",
       "[200 rows x 2 columns]"
      ]
     },
     "execution_count": 110,
     "metadata": {},
     "output_type": "execute_result"
    }
   ],
   "source": [
    "mins = 4\n",
    "nn = NearestNeighbors(mins+1) \n",
    "nn.fit(data[[\"x\",'y']])\n",
    "distances, neighbors = nn.kneighbors(data[[\"x\",\"y\"]]) \n",
    "# sort the distances\n",
    "distances = np.sort(distances[:,mins], axis = 0)\n",
    "distances_df = pd.DataFrame({\n",
    "    \"distances\":distances, \n",
    "    \"index\":list(range(0,len(distances)))\n",
    "})\n",
    "distances_df"
   ]
  },
  {
   "cell_type": "code",
   "execution_count": 120,
   "metadata": {},
   "outputs": [
    {
     "data": {
      "image/png": "[encoded data removed]",
      "text/plain": [
       "<Figure size 432x288 with 1 Axes>"
      ]
     },
     "metadata": {},
     "output_type": "display_data"
    }
   ],
   "source": [
    "plt.title('Elbow Method for Choosing Eps') \n",
    "plt.ylabel('distnaces') \n",
    "plt.xlabel('index')\n",
    "plt.plot(distances)\n",
    "plt.show()"
   ]
  },
  {
   "cell_type": "code",
   "execution_count": null,
   "metadata": {},
   "outputs": [],
   "source": []
  }
 ],
 "metadata": {
  "kernelspec": {
   "display_name": "Python 3 (ipykernel)",
   "language": "python",
   "name": "python3"
  },
  "language_info": {
   "codemirror_mode": {
    "name": "ipython",
    "version": 3
   },
   "file_extension": ".py",
   "mimetype": "text/x-python",
   "name": "python",
   "nbconvert_exporter": "python",
   "pygments_lexer": "ipython3",
   "version": "3.9.7"
  }
 },
 "nbformat": 4,
 "nbformat_minor": 4
}
