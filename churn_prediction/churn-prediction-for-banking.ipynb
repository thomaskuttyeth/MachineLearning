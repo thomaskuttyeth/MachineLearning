{
 "cells": [
  {
   "cell_type": "markdown",
   "metadata": {
    "papermill": {
     "duration": 0.018439,
     "end_time": "2020-08-26T13:06:39.406588",
     "exception": false,
     "start_time": "2020-08-26T13:06:39.388149",
     "status": "completed"
    },
    "tags": []
   },
   "source": [
    "****RowNumber**** — represent to the row number. This column will be removed.\n",
    "\n",
    "**CustomerID** — contains random and unique values. This column will be removed.\n",
    "\n",
    "**Surname** — the surname of a customer has no impact on their decision to leave the bank. This column will be removed.\n",
    "\n",
    "**CreditScore** — it is a score which shows the customer's credit behaviors. We will keep this column.\n",
    "\n",
    "**Geography** — a customer’s location can affect their decision to leave the bank. We will keep this column.\n",
    "\n",
    "**Gender** — it could be interesting to explore whether gender plays a role in a customer leaving the bank. \n",
    "\n",
    "**Age** — Age of the customer.\n",
    "\n",
    "**Tenure** — refers to the number of years that the customer has been a client of the bank. \n",
    "\n",
    "**Balance** — Balance of the customers.\n",
    "\n",
    "**NumOfProducts** — the number of products that a customer has purchased through the bank.\n",
    "\n",
    "**HasCrCard** — indicates whether or not a customer has a credit card. (0=No,1=Yes)\n",
    "\n",
    "**IsActiveMember** —  indicates whether or not a customer is active or not. (0=No,1=Yes)\n",
    "\n",
    "**EstimatedSalary** — customer salary can has impact on their decision to leave the bank that's why we will keep it.\n",
    "\n",
    "**Exited** — whether or not the customer left the bank. This is what we have to predict. (0=No,1=Yes)"
   ]
  },
  {
   "cell_type": "code",
   "execution_count": 2,
   "metadata": {
    "execution": {
     "iopub.execute_input": "2020-08-26T13:06:39.454703Z",
     "iopub.status.busy": "2020-08-26T13:06:39.453959Z",
     "iopub.status.idle": "2020-08-26T13:06:41.667362Z",
     "shell.execute_reply": "2020-08-26T13:06:41.666659Z"
    },
    "papermill": {
     "duration": 2.242064,
     "end_time": "2020-08-26T13:06:41.667500",
     "exception": false,
     "start_time": "2020-08-26T13:06:39.425436",
     "status": "completed"
    },
    "tags": []
   },
   "outputs": [],
   "source": [
    "import pandas as pd\n",
    "import numpy as np\n",
    "import matplotlib.pyplot as plt\n",
    "import seaborn as sns\n",
    "\n",
    "from collections import Counter\n",
    "\n",
    "from sklearn.model_selection import GridSearchCV, cross_val_score, StratifiedKFold\n",
    "\n",
    "\n",
    "from sklearn.metrics import roc_curve \n",
    "from sklearn.metrics import accuracy_score\n",
    "from sklearn.model_selection import GridSearchCV\n",
    "from sklearn.model_selection import RandomizedSearchCV\n",
    "from sklearn.metrics import roc_auc_score, confusion_matrix, classification_report, f1_score\n",
    "\n",
    "\n",
    "from sklearn.linear_model import LogisticRegression\n",
    "from sklearn.ensemble import RandomForestClassifier, AdaBoostClassifier, VotingClassifier\n",
    "from sklearn.tree import DecisionTreeClassifier\n",
    "from sklearn.neighbors import KNeighborsClassifier \n",
    "from sklearn.svm import SVC\n",
    "from xgboost import XGBClassifier"
   ]
  },
  {
   "cell_type": "markdown",
   "metadata": {
    "papermill": {
     "duration": 0.018597,
     "end_time": "2020-08-26T13:06:41.705317",
     "exception": false,
     "start_time": "2020-08-26T13:06:41.686720",
     "status": "completed"
    },
    "tags": []
   },
   "source": [
    "# Import Data"
   ]
  },
  {
   "cell_type": "code",
   "execution_count": 3,
   "metadata": {
    "_cell_guid": "79c7e3d0-c299-4dcb-8224-4455121ee9b0",
    "_uuid": "d629ff2d2480ee46fbb7e2d37f6b5fab8052498a",
    "execution": {
     "iopub.execute_input": "2020-08-26T13:06:41.774707Z",
     "iopub.status.busy": "2020-08-26T13:06:41.773962Z",
     "iopub.status.idle": "2020-08-26T13:06:41.848901Z",
     "shell.execute_reply": "2020-08-26T13:06:41.848095Z"
    },
    "papermill": {
     "duration": 0.124706,
     "end_time": "2020-08-26T13:06:41.849032",
     "exception": false,
     "start_time": "2020-08-26T13:06:41.724326",
     "status": "completed"
    },
    "tags": []
   },
   "outputs": [],
   "source": [
    "df = pd.read_csv(\"Churn_Modelling.csv\")"
   ]
  },
  {
   "cell_type": "code",
   "execution_count": 4,
   "metadata": {
    "execution": {
     "iopub.execute_input": "2020-08-26T13:06:41.895079Z",
     "iopub.status.busy": "2020-08-26T13:06:41.894279Z",
     "iopub.status.idle": "2020-08-26T13:06:41.897719Z",
     "shell.execute_reply": "2020-08-26T13:06:41.898318Z"
    },
    "papermill": {
     "duration": 0.030047,
     "end_time": "2020-08-26T13:06:41.898468",
     "exception": false,
     "start_time": "2020-08-26T13:06:41.868421",
     "status": "completed"
    },
    "tags": []
   },
   "outputs": [
    {
     "data": {
      "text/plain": [
       "(10000, 14)"
      ]
     },
     "execution_count": 4,
     "metadata": {},
     "output_type": "execute_result"
    }
   ],
   "source": [
    "df.shape"
   ]
  },
  {
   "cell_type": "code",
   "execution_count": 5,
   "metadata": {
    "execution": {
     "iopub.execute_input": "2020-08-26T13:06:41.946873Z",
     "iopub.status.busy": "2020-08-26T13:06:41.946046Z",
     "iopub.status.idle": "2020-08-26T13:06:41.964964Z",
     "shell.execute_reply": "2020-08-26T13:06:41.964199Z"
    },
    "papermill": {
     "duration": 0.047343,
     "end_time": "2020-08-26T13:06:41.965087",
     "exception": false,
     "start_time": "2020-08-26T13:06:41.917744",
     "status": "completed"
    },
    "tags": []
   },
   "outputs": [
    {
     "name": "stdout",
     "output_type": "stream",
     "text": [
      "<class 'pandas.core.frame.DataFrame'>\n",
      "RangeIndex: 10000 entries, 0 to 9999\n",
      "Data columns (total 14 columns):\n",
      " #   Column           Non-Null Count  Dtype  \n",
      "---  ------           --------------  -----  \n",
      " 0   RowNumber        10000 non-null  int64  \n",
      " 1   CustomerId       10000 non-null  int64  \n",
      " 2   Surname          10000 non-null  object \n",
      " 3   CreditScore      10000 non-null  int64  \n",
      " 4   Geography        10000 non-null  object \n",
      " 5   Gender           10000 non-null  object \n",
      " 6   Age              10000 non-null  int64  \n",
      " 7   Tenure           10000 non-null  int64  \n",
      " 8   Balance          10000 non-null  float64\n",
      " 9   NumOfProducts    10000 non-null  int64  \n",
      " 10  HasCrCard        10000 non-null  int64  \n",
      " 11  IsActiveMember   10000 non-null  int64  \n",
      " 12  EstimatedSalary  10000 non-null  float64\n",
      " 13  Exited           10000 non-null  int64  \n",
      "dtypes: float64(2), int64(9), object(3)\n",
      "memory usage: 1.1+ MB\n"
     ]
    }
   ],
   "source": [
    "df.info()"
   ]
  },
  {
   "cell_type": "code",
   "execution_count": 6,
   "metadata": {
    "execution": {
     "iopub.execute_input": "2020-08-26T13:06:42.014779Z",
     "iopub.status.busy": "2020-08-26T13:06:42.013947Z",
     "iopub.status.idle": "2020-08-26T13:06:42.021660Z",
     "shell.execute_reply": "2020-08-26T13:06:42.020925Z"
    },
    "papermill": {
     "duration": 0.037171,
     "end_time": "2020-08-26T13:06:42.021791",
     "exception": false,
     "start_time": "2020-08-26T13:06:41.984620",
     "status": "completed"
    },
    "tags": []
   },
   "outputs": [
    {
     "data": {
      "text/plain": [
       "RowNumber          0\n",
       "CustomerId         0\n",
       "Surname            0\n",
       "CreditScore        0\n",
       "Geography          0\n",
       "Gender             0\n",
       "Age                0\n",
       "Tenure             0\n",
       "Balance            0\n",
       "NumOfProducts      0\n",
       "HasCrCard          0\n",
       "IsActiveMember     0\n",
       "EstimatedSalary    0\n",
       "Exited             0\n",
       "dtype: int64"
      ]
     },
     "execution_count": 6,
     "metadata": {},
     "output_type": "execute_result"
    }
   ],
   "source": [
    "# Check columns list and missing values\n",
    "df.isnull().sum()"
   ]
  },
  {
   "cell_type": "code",
   "execution_count": 7,
   "metadata": {
    "execution": {
     "iopub.execute_input": "2020-08-26T13:06:42.066544Z",
     "iopub.status.busy": "2020-08-26T13:06:42.065789Z",
     "iopub.status.idle": "2020-08-26T13:06:42.106781Z",
     "shell.execute_reply": "2020-08-26T13:06:42.106106Z"
    },
    "papermill": {
     "duration": 0.065129,
     "end_time": "2020-08-26T13:06:42.106928",
     "exception": false,
     "start_time": "2020-08-26T13:06:42.041799",
     "status": "completed"
    },
    "tags": []
   },
   "outputs": [
    {
     "data": {
      "text/plain": [
       "RowNumber          10000\n",
       "CustomerId         10000\n",
       "Surname             2932\n",
       "CreditScore          460\n",
       "Geography              3\n",
       "Gender                 2\n",
       "Age                   70\n",
       "Tenure                11\n",
       "Balance             6382\n",
       "NumOfProducts          4\n",
       "HasCrCard              2\n",
       "IsActiveMember         2\n",
       "EstimatedSalary     9999\n",
       "Exited                 2\n",
       "dtype: int64"
      ]
     },
     "execution_count": 7,
     "metadata": {},
     "output_type": "execute_result"
    }
   ],
   "source": [
    "# Get unique count for each variable\n",
    "df.nunique()"
   ]
  },
  {
   "cell_type": "markdown",
   "metadata": {
    "papermill": {
     "duration": 0.019576,
     "end_time": "2020-08-26T13:06:42.146580",
     "exception": false,
     "start_time": "2020-08-26T13:06:42.127004",
     "status": "completed"
    },
    "tags": []
   },
   "source": [
    "> Let's remove the features which has no impact on churn of the customers."
   ]
  },
  {
   "cell_type": "code",
   "execution_count": 8,
   "metadata": {
    "execution": {
     "iopub.execute_input": "2020-08-26T13:06:42.201499Z",
     "iopub.status.busy": "2020-08-26T13:06:42.200410Z",
     "iopub.status.idle": "2020-08-26T13:06:42.204146Z",
     "shell.execute_reply": "2020-08-26T13:06:42.203385Z"
    },
    "papermill": {
     "duration": 0.037789,
     "end_time": "2020-08-26T13:06:42.204272",
     "exception": false,
     "start_time": "2020-08-26T13:06:42.166483",
     "status": "completed"
    },
    "tags": []
   },
   "outputs": [],
   "source": [
    "drop_list = [\n",
    "'RowNumber',\n",
    "'CustomerId',\n",
    "'Surname'\n",
    "]\n",
    "\n",
    "\n",
    "df=df.drop(drop_list,axis=1)"
   ]
  },
  {
   "cell_type": "code",
   "execution_count": 9,
   "metadata": {
    "execution": {
     "iopub.execute_input": "2020-08-26T13:06:42.251603Z",
     "iopub.status.busy": "2020-08-26T13:06:42.250538Z",
     "iopub.status.idle": "2020-08-26T13:06:42.255691Z",
     "shell.execute_reply": "2020-08-26T13:06:42.254998Z"
    },
    "papermill": {
     "duration": 0.030612,
     "end_time": "2020-08-26T13:06:42.255841",
     "exception": false,
     "start_time": "2020-08-26T13:06:42.225229",
     "status": "completed"
    },
    "tags": []
   },
   "outputs": [
    {
     "data": {
      "text/plain": [
       "(10000, 11)"
      ]
     },
     "execution_count": 9,
     "metadata": {},
     "output_type": "execute_result"
    }
   ],
   "source": [
    "df.shape"
   ]
  },
  {
   "cell_type": "code",
   "execution_count": 10,
   "metadata": {
    "execution": {
     "iopub.execute_input": "2020-08-26T13:06:42.308079Z",
     "iopub.status.busy": "2020-08-26T13:06:42.307282Z",
     "iopub.status.idle": "2020-08-26T13:06:42.318860Z",
     "shell.execute_reply": "2020-08-26T13:06:42.319390Z"
    },
    "papermill": {
     "duration": 0.043314,
     "end_time": "2020-08-26T13:06:42.319556",
     "exception": false,
     "start_time": "2020-08-26T13:06:42.276242",
     "status": "completed"
    },
    "tags": []
   },
   "outputs": [
    {
     "data": {
      "text/html": [
       "<div>\n",
       "<style scoped>\n",
       "    .dataframe tbody tr th:only-of-type {\n",
       "        vertical-align: middle;\n",
       "    }\n",
       "\n",
       "    .dataframe tbody tr th {\n",
       "        vertical-align: top;\n",
       "    }\n",
       "\n",
       "    .dataframe thead th {\n",
       "        text-align: right;\n",
       "    }\n",
       "</style>\n",
       "<table border=\"1\" class=\"dataframe\">\n",
       "  <thead>\n",
       "    <tr style=\"text-align: right;\">\n",
       "      <th></th>\n",
       "      <th>CreditScore</th>\n",
       "      <th>Geography</th>\n",
       "      <th>Gender</th>\n",
       "      <th>Age</th>\n",
       "      <th>Tenure</th>\n",
       "      <th>Balance</th>\n",
       "      <th>NumOfProducts</th>\n",
       "      <th>HasCrCard</th>\n",
       "      <th>IsActiveMember</th>\n",
       "      <th>EstimatedSalary</th>\n",
       "      <th>Exited</th>\n",
       "    </tr>\n",
       "  </thead>\n",
       "  <tbody>\n",
       "    <tr>\n",
       "      <th>0</th>\n",
       "      <td>619</td>\n",
       "      <td>France</td>\n",
       "      <td>Female</td>\n",
       "      <td>42</td>\n",
       "      <td>2</td>\n",
       "      <td>0.00</td>\n",
       "      <td>1</td>\n",
       "      <td>1</td>\n",
       "      <td>1</td>\n",
       "      <td>101348.88</td>\n",
       "      <td>1</td>\n",
       "    </tr>\n",
       "    <tr>\n",
       "      <th>1</th>\n",
       "      <td>608</td>\n",
       "      <td>Spain</td>\n",
       "      <td>Female</td>\n",
       "      <td>41</td>\n",
       "      <td>1</td>\n",
       "      <td>83807.86</td>\n",
       "      <td>1</td>\n",
       "      <td>0</td>\n",
       "      <td>1</td>\n",
       "      <td>112542.58</td>\n",
       "      <td>0</td>\n",
       "    </tr>\n",
       "    <tr>\n",
       "      <th>2</th>\n",
       "      <td>502</td>\n",
       "      <td>France</td>\n",
       "      <td>Female</td>\n",
       "      <td>42</td>\n",
       "      <td>8</td>\n",
       "      <td>159660.80</td>\n",
       "      <td>3</td>\n",
       "      <td>1</td>\n",
       "      <td>0</td>\n",
       "      <td>113931.57</td>\n",
       "      <td>1</td>\n",
       "    </tr>\n",
       "    <tr>\n",
       "      <th>3</th>\n",
       "      <td>699</td>\n",
       "      <td>France</td>\n",
       "      <td>Female</td>\n",
       "      <td>39</td>\n",
       "      <td>1</td>\n",
       "      <td>0.00</td>\n",
       "      <td>2</td>\n",
       "      <td>0</td>\n",
       "      <td>0</td>\n",
       "      <td>93826.63</td>\n",
       "      <td>0</td>\n",
       "    </tr>\n",
       "    <tr>\n",
       "      <th>4</th>\n",
       "      <td>850</td>\n",
       "      <td>Spain</td>\n",
       "      <td>Female</td>\n",
       "      <td>43</td>\n",
       "      <td>2</td>\n",
       "      <td>125510.82</td>\n",
       "      <td>1</td>\n",
       "      <td>1</td>\n",
       "      <td>1</td>\n",
       "      <td>79084.10</td>\n",
       "      <td>0</td>\n",
       "    </tr>\n",
       "  </tbody>\n",
       "</table>\n",
       "</div>"
      ],
      "text/plain": [
       "   CreditScore Geography  Gender  Age  Tenure    Balance  NumOfProducts  \\\n",
       "0          619    France  Female   42       2       0.00              1   \n",
       "1          608     Spain  Female   41       1   83807.86              1   \n",
       "2          502    France  Female   42       8  159660.80              3   \n",
       "3          699    France  Female   39       1       0.00              2   \n",
       "4          850     Spain  Female   43       2  125510.82              1   \n",
       "\n",
       "   HasCrCard  IsActiveMember  EstimatedSalary  Exited  \n",
       "0          1               1        101348.88       1  \n",
       "1          0               1        112542.58       0  \n",
       "2          1               0        113931.57       1  \n",
       "3          0               0         93826.63       0  \n",
       "4          1               1         79084.10       0  "
      ]
     },
     "execution_count": 10,
     "metadata": {},
     "output_type": "execute_result"
    }
   ],
   "source": [
    "df.head()"
   ]
  },
  {
   "cell_type": "code",
   "execution_count": 11,
   "metadata": {
    "execution": {
     "iopub.execute_input": "2020-08-26T13:06:42.369020Z",
     "iopub.status.busy": "2020-08-26T13:06:42.368111Z",
     "iopub.status.idle": "2020-08-26T13:06:42.371231Z",
     "shell.execute_reply": "2020-08-26T13:06:42.370600Z"
    },
    "papermill": {
     "duration": 0.030499,
     "end_time": "2020-08-26T13:06:42.371351",
     "exception": false,
     "start_time": "2020-08-26T13:06:42.340852",
     "status": "completed"
    },
    "tags": []
   },
   "outputs": [],
   "source": [
    "df[\"Exited\"].replace(to_replace=\"C\", value=1, inplace=True)\n",
    "df[\"Exited\"].replace(to_replace=\"N\", value=0, inplace=True)"
   ]
  },
  {
   "cell_type": "code",
   "execution_count": 12,
   "metadata": {
    "execution": {
     "iopub.execute_input": "2020-08-26T13:06:42.420451Z",
     "iopub.status.busy": "2020-08-26T13:06:42.419691Z",
     "iopub.status.idle": "2020-08-26T13:06:42.430088Z",
     "shell.execute_reply": "2020-08-26T13:06:42.429329Z"
    },
    "papermill": {
     "duration": 0.038369,
     "end_time": "2020-08-26T13:06:42.430223",
     "exception": false,
     "start_time": "2020-08-26T13:06:42.391854",
     "status": "completed"
    },
    "tags": []
   },
   "outputs": [
    {
     "name": "stdout",
     "output_type": "stream",
     "text": [
      "<class 'pandas.core.frame.DataFrame'>\n",
      "RangeIndex: 10000 entries, 0 to 9999\n",
      "Data columns (total 11 columns):\n",
      " #   Column           Non-Null Count  Dtype  \n",
      "---  ------           --------------  -----  \n",
      " 0   CreditScore      10000 non-null  int64  \n",
      " 1   Geography        10000 non-null  object \n",
      " 2   Gender           10000 non-null  object \n",
      " 3   Age              10000 non-null  int64  \n",
      " 4   Tenure           10000 non-null  int64  \n",
      " 5   Balance          10000 non-null  float64\n",
      " 6   NumOfProducts    10000 non-null  int64  \n",
      " 7   HasCrCard        10000 non-null  int64  \n",
      " 8   IsActiveMember   10000 non-null  int64  \n",
      " 9   EstimatedSalary  10000 non-null  float64\n",
      " 10  Exited           10000 non-null  int64  \n",
      "dtypes: float64(2), int64(7), object(2)\n",
      "memory usage: 859.5+ KB\n"
     ]
    }
   ],
   "source": [
    "df.info()"
   ]
  },
  {
   "cell_type": "markdown",
   "metadata": {
    "papermill": {
     "duration": 0.020251,
     "end_time": "2020-08-26T13:06:42.471231",
     "exception": false,
     "start_time": "2020-08-26T13:06:42.450980",
     "status": "completed"
    },
    "tags": []
   },
   "source": [
    "# EDA"
   ]
  },
  {
   "cell_type": "code",
   "execution_count": 13,
   "metadata": {
    "execution": {
     "iopub.execute_input": "2020-08-26T13:06:42.520213Z",
     "iopub.status.busy": "2020-08-26T13:06:42.517353Z",
     "iopub.status.idle": "2020-08-26T13:06:42.524733Z",
     "shell.execute_reply": "2020-08-26T13:06:42.524069Z"
    },
    "papermill": {
     "duration": 0.03288,
     "end_time": "2020-08-26T13:06:42.524875",
     "exception": false,
     "start_time": "2020-08-26T13:06:42.491995",
     "status": "completed"
    },
    "tags": []
   },
   "outputs": [
    {
     "data": {
      "text/plain": [
       "0    7963\n",
       "1    2037\n",
       "Name: Exited, dtype: int64"
      ]
     },
     "execution_count": 13,
     "metadata": {},
     "output_type": "execute_result"
    }
   ],
   "source": [
    "df[\"Exited\"].value_counts()"
   ]
  },
  {
   "cell_type": "code",
   "execution_count": 14,
   "metadata": {
    "execution": {
     "iopub.execute_input": "2020-08-26T13:06:42.577447Z",
     "iopub.status.busy": "2020-08-26T13:06:42.576355Z",
     "iopub.status.idle": "2020-08-26T13:06:42.702680Z",
     "shell.execute_reply": "2020-08-26T13:06:42.702024Z"
    },
    "papermill": {
     "duration": 0.15708,
     "end_time": "2020-08-26T13:06:42.702831",
     "exception": false,
     "start_time": "2020-08-26T13:06:42.545751",
     "status": "completed"
    },
    "tags": []
   },
   "outputs": [
    {
     "data": {
      "image/png": "[encoded data removed]",
      "text/plain": [
       "<Figure size 720x576 with 1 Axes>"
      ]
     },
     "metadata": {},
     "output_type": "display_data"
    }
   ],
   "source": [
    "labels = 'Churn', 'Not Churn'\n",
    "sizes = [df.Exited[df['Exited']==1].count(), df.Exited[df['Exited']==0].count()]\n",
    "explode = (0, 0.1)\n",
    "fig1, ax1 = plt.subplots(figsize=(10, 8))\n",
    "ax1.pie(sizes, explode=explode, labels=labels, autopct='%1.1f%%',\n",
    "        shadow=True, startangle=90)\n",
    "ax1.axis('equal')\n",
    "plt.title(\"Distribution of Customers Churn and Not Churn\", size = 8)\n",
    "plt.show()"
   ]
  },
  {
   "cell_type": "markdown",
   "metadata": {
    "papermill": {
     "duration": 0.02096,
     "end_time": "2020-08-26T13:06:42.745460",
     "exception": false,
     "start_time": "2020-08-26T13:06:42.724500",
     "status": "completed"
    },
    "tags": []
   },
   "source": [
    ">  It seems that there is no balance between churn and not churn customers in the dataset. When we are developing a model, we have to take into consideration this situation."
   ]
  },
  {
   "cell_type": "markdown",
   "metadata": {
    "papermill": {
     "duration": 0.020854,
     "end_time": "2020-08-26T13:06:42.787655",
     "exception": false,
     "start_time": "2020-08-26T13:06:42.766801",
     "status": "completed"
    },
    "tags": []
   },
   "source": [
    "### Numerical Features"
   ]
  },
  {
   "cell_type": "code",
   "execution_count": 15,
   "metadata": {
    "execution": {
     "iopub.execute_input": "2020-08-26T13:06:42.844325Z",
     "iopub.status.busy": "2020-08-26T13:06:42.843512Z",
     "iopub.status.idle": "2020-08-26T13:06:43.405706Z",
     "shell.execute_reply": "2020-08-26T13:06:43.405119Z"
    },
    "papermill": {
     "duration": 0.596952,
     "end_time": "2020-08-26T13:06:43.405848",
     "exception": false,
     "start_time": "2020-08-26T13:06:42.808896",
     "status": "completed"
    },
    "tags": []
   },
   "outputs": [
    {
     "data": {
      "image/png": "[encoded data removed]",
      "text/plain": [
       "<Figure size 720x576 with 2 Axes>"
      ]
     },
     "metadata": {
      "needs_background": "light"
     },
     "output_type": "display_data"
    }
   ],
   "source": [
    "# Correlation Matrix for Numerical Features\n",
    "f, ax = plt.subplots(figsize= [10,8])\n",
    "g = sns.heatmap(df[[\"CreditScore\",\"Age\",\"Tenure\",\"NumOfProducts\",\"HasCrCard\",\"Balance\", \"EstimatedSalary\", \"Exited\"]].corr(),annot=True, fmt = \".2f\", ax=ax, cmap = \"magma\")\n",
    "ax.set_title(\"Correlation Matrix\", fontsize=20)\n",
    "plt.show()"
   ]
  },
  {
   "cell_type": "markdown",
   "metadata": {
    "papermill": {
     "duration": 0.02177,
     "end_time": "2020-08-26T13:06:43.449722",
     "exception": false,
     "start_time": "2020-08-26T13:06:43.427952",
     "status": "completed"
    },
    "tags": []
   },
   "source": [
    "> It seems that there is no correlation between numerical features."
   ]
  },
  {
   "cell_type": "markdown",
   "metadata": {
    "papermill": {
     "duration": 0.021704,
     "end_time": "2020-08-26T13:06:43.493452",
     "exception": false,
     "start_time": "2020-08-26T13:06:43.471748",
     "status": "completed"
    },
    "tags": []
   },
   "source": [
    "#### Age"
   ]
  },
  {
   "cell_type": "code",
   "execution_count": 16,
   "metadata": {
    "execution": {
     "iopub.execute_input": "2020-08-26T13:06:43.550147Z",
     "iopub.status.busy": "2020-08-26T13:06:43.544207Z",
     "iopub.status.idle": "2020-08-26T13:06:44.087516Z",
     "shell.execute_reply": "2020-08-26T13:06:44.086860Z"
    },
    "papermill": {
     "duration": 0.572133,
     "end_time": "2020-08-26T13:06:44.087641",
     "exception": false,
     "start_time": "2020-08-26T13:06:43.515508",
     "status": "completed"
    },
    "tags": []
   },
   "outputs": [
    {
     "name": "stderr",
     "output_type": "stream",
     "text": [
      "C:\\Users\\ASUS\\anaconda3\\lib\\site-packages\\seaborn\\distributions.py:2619: FutureWarning: `distplot` is a deprecated function and will be removed in a future version. Please adapt your code to use either `displot` (a figure-level function with similar flexibility) or `histplot` (an axes-level function for histograms).\n",
      "  warnings.warn(msg, FutureWarning)\n",
      "C:\\Users\\ASUS\\anaconda3\\lib\\site-packages\\seaborn\\distributions.py:2619: FutureWarning: `distplot` is a deprecated function and will be removed in a future version. Please adapt your code to use either `displot` (a figure-level function with similar flexibility) or `histplot` (an axes-level function for histograms).\n",
      "  warnings.warn(msg, FutureWarning)\n"
     ]
    },
    {
     "data": {
      "image/png": "[encoded data removed]",
      "text/plain": [
       "<Figure size 432x216 with 2 Axes>"
      ]
     },
     "metadata": {
      "needs_background": "light"
     },
     "output_type": "display_data"
    }
   ],
   "source": [
    "g = sns.FacetGrid(df, col='Exited')\n",
    "g = g.map(sns.distplot, \"Age\", color=\"m\")"
   ]
  },
  {
   "cell_type": "markdown",
   "metadata": {
    "papermill": {
     "duration": 0.022022,
     "end_time": "2020-08-26T13:06:44.134217",
     "exception": false,
     "start_time": "2020-08-26T13:06:44.112195",
     "status": "completed"
    },
    "tags": []
   },
   "source": [
    "#### Balance"
   ]
  },
  {
   "cell_type": "code",
   "execution_count": 17,
   "metadata": {
    "execution": {
     "iopub.execute_input": "2020-08-26T13:06:44.193307Z",
     "iopub.status.busy": "2020-08-26T13:06:44.192135Z",
     "iopub.status.idle": "2020-08-26T13:06:44.623831Z",
     "shell.execute_reply": "2020-08-26T13:06:44.623071Z"
    },
    "papermill": {
     "duration": 0.467477,
     "end_time": "2020-08-26T13:06:44.623959",
     "exception": false,
     "start_time": "2020-08-26T13:06:44.156482",
     "status": "completed"
    },
    "tags": []
   },
   "outputs": [
    {
     "name": "stderr",
     "output_type": "stream",
     "text": [
      "C:\\Users\\ASUS\\anaconda3\\lib\\site-packages\\seaborn\\distributions.py:2619: FutureWarning: `distplot` is a deprecated function and will be removed in a future version. Please adapt your code to use either `displot` (a figure-level function with similar flexibility) or `histplot` (an axes-level function for histograms).\n",
      "  warnings.warn(msg, FutureWarning)\n",
      "C:\\Users\\ASUS\\anaconda3\\lib\\site-packages\\seaborn\\distributions.py:2619: FutureWarning: `distplot` is a deprecated function and will be removed in a future version. Please adapt your code to use either `displot` (a figure-level function with similar flexibility) or `histplot` (an axes-level function for histograms).\n",
      "  warnings.warn(msg, FutureWarning)\n"
     ]
    },
    {
     "data": {
      "image/png": "[encoded data removed]",
      "text/plain": [
       "<Figure size 432x216 with 2 Axes>"
      ]
     },
     "metadata": {
      "needs_background": "light"
     },
     "output_type": "display_data"
    }
   ],
   "source": [
    "g = sns.FacetGrid(df, col='Exited')\n",
    "g = g.map(sns.distplot, \"Balance\", color=\"c\")"
   ]
  },
  {
   "cell_type": "markdown",
   "metadata": {
    "papermill": {
     "duration": 0.022303,
     "end_time": "2020-08-26T13:06:44.669044",
     "exception": false,
     "start_time": "2020-08-26T13:06:44.646741",
     "status": "completed"
    },
    "tags": []
   },
   "source": [
    "### Cathegorical Features"
   ]
  },
  {
   "cell_type": "markdown",
   "metadata": {
    "papermill": {
     "duration": 0.022238,
     "end_time": "2020-08-26T13:06:44.713851",
     "exception": false,
     "start_time": "2020-08-26T13:06:44.691613",
     "status": "completed"
    },
    "tags": []
   },
   "source": [
    "### Geography"
   ]
  },
  {
   "cell_type": "code",
   "execution_count": 18,
   "metadata": {
    "execution": {
     "iopub.execute_input": "2020-08-26T13:06:44.813926Z",
     "iopub.status.busy": "2020-08-26T13:06:44.813147Z",
     "iopub.status.idle": "2020-08-26T13:06:45.222119Z",
     "shell.execute_reply": "2020-08-26T13:06:45.214221Z"
    },
    "papermill": {
     "duration": 0.485999,
     "end_time": "2020-08-26T13:06:45.222358",
     "exception": false,
     "start_time": "2020-08-26T13:06:44.736359",
     "status": "completed"
    },
    "tags": []
   },
   "outputs": [
    {
     "data": {
      "image/png": "[encoded data removed]",
      "text/plain": [
       "<Figure size 360x360 with 1 Axes>"
      ]
     },
     "metadata": {
      "needs_background": "light"
     },
     "output_type": "display_data"
    }
   ],
   "source": [
    "g = sns.catplot(x=\"Geography\",y=\"Exited\", data=df, kind=\"bar\", height = 5 ,palette = \"muted\")\n",
    "g.despine(left=True)\n",
    "g = g.set_ylabels(\"Churn Probability\")"
   ]
  },
  {
   "cell_type": "markdown",
   "metadata": {
    "papermill": {
     "duration": 0.02239,
     "end_time": "2020-08-26T13:06:45.276464",
     "exception": false,
     "start_time": "2020-08-26T13:06:45.254074",
     "status": "completed"
    },
    "tags": []
   },
   "source": [
    "### Gender"
   ]
  },
  {
   "cell_type": "code",
   "execution_count": 19,
   "metadata": {
    "execution": {
     "iopub.execute_input": "2020-08-26T13:06:45.329969Z",
     "iopub.status.busy": "2020-08-26T13:06:45.328797Z",
     "iopub.status.idle": "2020-08-26T13:06:45.601534Z",
     "shell.execute_reply": "2020-08-26T13:06:45.602449Z"
    },
    "papermill": {
     "duration": 0.303293,
     "end_time": "2020-08-26T13:06:45.602689",
     "exception": false,
     "start_time": "2020-08-26T13:06:45.299396",
     "status": "completed"
    },
    "tags": []
   },
   "outputs": [
    {
     "data": {
      "image/png": "[encoded data removed]",
      "text/plain": [
       "<Figure size 432x288 with 1 Axes>"
      ]
     },
     "metadata": {
      "needs_background": "light"
     },
     "output_type": "display_data"
    }
   ],
   "source": [
    "g = sns.barplot(x=\"Gender\",y=\"Exited\",data=df)\n",
    "g = g.set_ylabel(\"Churn Probability\")"
   ]
  },
  {
   "cell_type": "markdown",
   "metadata": {
    "papermill": {
     "duration": 0.023004,
     "end_time": "2020-08-26T13:06:45.653601",
     "exception": false,
     "start_time": "2020-08-26T13:06:45.630597",
     "status": "completed"
    },
    "tags": []
   },
   "source": [
    "### Missing Values"
   ]
  },
  {
   "cell_type": "code",
   "execution_count": 20,
   "metadata": {
    "execution": {
     "iopub.execute_input": "2020-08-26T13:06:45.708648Z",
     "iopub.status.busy": "2020-08-26T13:06:45.707882Z",
     "iopub.status.idle": "2020-08-26T13:06:45.715490Z",
     "shell.execute_reply": "2020-08-26T13:06:45.714769Z"
    },
    "papermill": {
     "duration": 0.038835,
     "end_time": "2020-08-26T13:06:45.715610",
     "exception": false,
     "start_time": "2020-08-26T13:06:45.676775",
     "status": "completed"
    },
    "tags": []
   },
   "outputs": [
    {
     "data": {
      "text/plain": [
       "CreditScore        0\n",
       "Geography          0\n",
       "Gender             0\n",
       "Age                0\n",
       "Tenure             0\n",
       "Balance            0\n",
       "NumOfProducts      0\n",
       "HasCrCard          0\n",
       "IsActiveMember     0\n",
       "EstimatedSalary    0\n",
       "Exited             0\n",
       "dtype: int64"
      ]
     },
     "execution_count": 20,
     "metadata": {},
     "output_type": "execute_result"
    }
   ],
   "source": [
    "df.isnull().sum()"
   ]
  },
  {
   "cell_type": "markdown",
   "metadata": {
    "papermill": {
     "duration": 0.022983,
     "end_time": "2020-08-26T13:06:45.762727",
     "exception": false,
     "start_time": "2020-08-26T13:06:45.739744",
     "status": "completed"
    },
    "tags": []
   },
   "source": [
    "> There is no missing value in the dataset. "
   ]
  },
  {
   "cell_type": "markdown",
   "metadata": {
    "papermill": {
     "duration": 0.023457,
     "end_time": "2020-08-26T13:06:45.809664",
     "exception": false,
     "start_time": "2020-08-26T13:06:45.786207",
     "status": "completed"
    },
    "tags": []
   },
   "source": [
    "### Outlier Detection"
   ]
  },
  {
   "cell_type": "code",
   "execution_count": 21,
   "metadata": {
    "execution": {
     "iopub.execute_input": "2020-08-26T13:06:45.869252Z",
     "iopub.status.busy": "2020-08-26T13:06:45.868488Z",
     "iopub.status.idle": "2020-08-26T13:06:45.990482Z",
     "shell.execute_reply": "2020-08-26T13:06:45.989744Z"
    },
    "papermill": {
     "duration": 0.157474,
     "end_time": "2020-08-26T13:06:45.990620",
     "exception": false,
     "start_time": "2020-08-26T13:06:45.833146",
     "status": "completed"
    },
    "tags": []
   },
   "outputs": [],
   "source": [
    "# Outlier detection \n",
    "\n",
    "def detect_outliers(df,n,features):\n",
    "    \"\"\"\n",
    "    Takes a dataframe df of features and returns a list of the indices\n",
    "    corresponding to the observations containing more than n outliers according\n",
    "    to the Tukey method.\n",
    "    \"\"\"\n",
    "    outlier_indices = []\n",
    "    \n",
    "    # iterate over features(columns)\n",
    "    for col in features:\n",
    "        # 1st quartile (25%)\n",
    "        Q1 = np.percentile(df[col], 25)\n",
    "        # 3rd quartile (75%)\n",
    "        Q3 = np.percentile(df[col],75)\n",
    "        # Interquartile range (IQR)\n",
    "        IQR = Q3 - Q1\n",
    "        \n",
    "        # outlier step\n",
    "        outlier_step = 1.5 * IQR\n",
    "        \n",
    "        # Determine a list of indices of outliers for feature col\n",
    "        outlier_list_col = df[(df[col] < Q1 - outlier_step) | (df[col] > Q3 + outlier_step )].index\n",
    "        \n",
    "        # append the found outlier indices for col to the list of outlier indices \n",
    "        outlier_indices.extend(outlier_list_col)\n",
    "        \n",
    "    # select observations containing more than 2 outliers\n",
    "    outlier_indices = Counter(outlier_indices)        \n",
    "    multiple_outliers = list( k for k, v in outlier_indices.items() if v > n )\n",
    "    \n",
    "    return multiple_outliers   \n",
    "\n",
    "# detect outliers from Age, Balance, Duration\n",
    "Outliers_to_drop = detect_outliers(df,2,[\"CreditScore\",\"Age\",\"Tenure\", \"Balance\", \"NumOfProducts\", \"EstimatedSalary\"])"
   ]
  },
  {
   "cell_type": "markdown",
   "metadata": {
    "papermill": {
     "duration": 0.023277,
     "end_time": "2020-08-26T13:06:46.039476",
     "exception": false,
     "start_time": "2020-08-26T13:06:46.016199",
     "status": "completed"
    },
    "tags": []
   },
   "source": [
    "We applied Tukey Method to remove outliers from dataset. Let's remove them!"
   ]
  },
  {
   "cell_type": "code",
   "execution_count": 22,
   "metadata": {
    "execution": {
     "iopub.execute_input": "2020-08-26T13:06:46.095713Z",
     "iopub.status.busy": "2020-08-26T13:06:46.094984Z",
     "iopub.status.idle": "2020-08-26T13:06:46.099877Z",
     "shell.execute_reply": "2020-08-26T13:06:46.100423Z"
    },
    "papermill": {
     "duration": 0.036529,
     "end_time": "2020-08-26T13:06:46.100584",
     "exception": false,
     "start_time": "2020-08-26T13:06:46.064055",
     "status": "completed"
    },
    "tags": []
   },
   "outputs": [],
   "source": [
    "# Drop outliers\n",
    "df = df.drop(Outliers_to_drop, axis = 0).reset_index(drop=True)"
   ]
  },
  {
   "cell_type": "markdown",
   "metadata": {
    "papermill": {
     "duration": 0.023199,
     "end_time": "2020-08-26T13:06:46.147446",
     "exception": false,
     "start_time": "2020-08-26T13:06:46.124247",
     "status": "completed"
    },
    "tags": []
   },
   "source": [
    "### Convert Data Format"
   ]
  },
  {
   "cell_type": "markdown",
   "metadata": {
    "papermill": {
     "duration": 0.023214,
     "end_time": "2020-08-26T13:06:46.194346",
     "exception": false,
     "start_time": "2020-08-26T13:06:46.171132",
     "status": "completed"
    },
    "tags": []
   },
   "source": [
    "> Let's convert long format to wide format."
   ]
  },
  {
   "cell_type": "code",
   "execution_count": 23,
   "metadata": {
    "execution": {
     "iopub.execute_input": "2020-08-26T13:06:46.253064Z",
     "iopub.status.busy": "2020-08-26T13:06:46.251950Z",
     "iopub.status.idle": "2020-08-26T13:06:46.275255Z",
     "shell.execute_reply": "2020-08-26T13:06:46.274619Z"
    },
    "papermill": {
     "duration": 0.056857,
     "end_time": "2020-08-26T13:06:46.275375",
     "exception": false,
     "start_time": "2020-08-26T13:06:46.218518",
     "status": "completed"
    },
    "tags": []
   },
   "outputs": [
    {
     "data": {
      "text/html": [
       "<div>\n",
       "<style scoped>\n",
       "    .dataframe tbody tr th:only-of-type {\n",
       "        vertical-align: middle;\n",
       "    }\n",
       "\n",
       "    .dataframe tbody tr th {\n",
       "        vertical-align: top;\n",
       "    }\n",
       "\n",
       "    .dataframe thead th {\n",
       "        text-align: right;\n",
       "    }\n",
       "</style>\n",
       "<table border=\"1\" class=\"dataframe\">\n",
       "  <thead>\n",
       "    <tr style=\"text-align: right;\">\n",
       "      <th></th>\n",
       "      <th>CreditScore</th>\n",
       "      <th>Age</th>\n",
       "      <th>Tenure</th>\n",
       "      <th>Balance</th>\n",
       "      <th>NumOfProducts</th>\n",
       "      <th>HasCrCard</th>\n",
       "      <th>IsActiveMember</th>\n",
       "      <th>EstimatedSalary</th>\n",
       "      <th>Exited</th>\n",
       "      <th>Geography_France</th>\n",
       "      <th>Geography_Germany</th>\n",
       "      <th>Geography_Spain</th>\n",
       "      <th>Gender_Female</th>\n",
       "      <th>Gender_Male</th>\n",
       "    </tr>\n",
       "  </thead>\n",
       "  <tbody>\n",
       "    <tr>\n",
       "      <th>0</th>\n",
       "      <td>619</td>\n",
       "      <td>42</td>\n",
       "      <td>2</td>\n",
       "      <td>0.00</td>\n",
       "      <td>1</td>\n",
       "      <td>1</td>\n",
       "      <td>1</td>\n",
       "      <td>101348.88</td>\n",
       "      <td>1</td>\n",
       "      <td>1</td>\n",
       "      <td>0</td>\n",
       "      <td>0</td>\n",
       "      <td>1</td>\n",
       "      <td>0</td>\n",
       "    </tr>\n",
       "    <tr>\n",
       "      <th>1</th>\n",
       "      <td>608</td>\n",
       "      <td>41</td>\n",
       "      <td>1</td>\n",
       "      <td>83807.86</td>\n",
       "      <td>1</td>\n",
       "      <td>0</td>\n",
       "      <td>1</td>\n",
       "      <td>112542.58</td>\n",
       "      <td>0</td>\n",
       "      <td>0</td>\n",
       "      <td>0</td>\n",
       "      <td>1</td>\n",
       "      <td>1</td>\n",
       "      <td>0</td>\n",
       "    </tr>\n",
       "    <tr>\n",
       "      <th>2</th>\n",
       "      <td>502</td>\n",
       "      <td>42</td>\n",
       "      <td>8</td>\n",
       "      <td>159660.80</td>\n",
       "      <td>3</td>\n",
       "      <td>1</td>\n",
       "      <td>0</td>\n",
       "      <td>113931.57</td>\n",
       "      <td>1</td>\n",
       "      <td>1</td>\n",
       "      <td>0</td>\n",
       "      <td>0</td>\n",
       "      <td>1</td>\n",
       "      <td>0</td>\n",
       "    </tr>\n",
       "    <tr>\n",
       "      <th>3</th>\n",
       "      <td>699</td>\n",
       "      <td>39</td>\n",
       "      <td>1</td>\n",
       "      <td>0.00</td>\n",
       "      <td>2</td>\n",
       "      <td>0</td>\n",
       "      <td>0</td>\n",
       "      <td>93826.63</td>\n",
       "      <td>0</td>\n",
       "      <td>1</td>\n",
       "      <td>0</td>\n",
       "      <td>0</td>\n",
       "      <td>1</td>\n",
       "      <td>0</td>\n",
       "    </tr>\n",
       "    <tr>\n",
       "      <th>4</th>\n",
       "      <td>850</td>\n",
       "      <td>43</td>\n",
       "      <td>2</td>\n",
       "      <td>125510.82</td>\n",
       "      <td>1</td>\n",
       "      <td>1</td>\n",
       "      <td>1</td>\n",
       "      <td>79084.10</td>\n",
       "      <td>0</td>\n",
       "      <td>0</td>\n",
       "      <td>0</td>\n",
       "      <td>1</td>\n",
       "      <td>1</td>\n",
       "      <td>0</td>\n",
       "    </tr>\n",
       "  </tbody>\n",
       "</table>\n",
       "</div>"
      ],
      "text/plain": [
       "   CreditScore  Age  Tenure    Balance  NumOfProducts  HasCrCard  \\\n",
       "0          619   42       2       0.00              1          1   \n",
       "1          608   41       1   83807.86              1          0   \n",
       "2          502   42       8  159660.80              3          1   \n",
       "3          699   39       1       0.00              2          0   \n",
       "4          850   43       2  125510.82              1          1   \n",
       "\n",
       "   IsActiveMember  EstimatedSalary  Exited  Geography_France  \\\n",
       "0               1        101348.88       1                 1   \n",
       "1               1        112542.58       0                 0   \n",
       "2               0        113931.57       1                 1   \n",
       "3               0         93826.63       0                 1   \n",
       "4               1         79084.10       0                 0   \n",
       "\n",
       "   Geography_Germany  Geography_Spain  Gender_Female  Gender_Male  \n",
       "0                  0                0              1            0  \n",
       "1                  0                1              1            0  \n",
       "2                  0                0              1            0  \n",
       "3                  0                0              1            0  \n",
       "4                  0                1              1            0  "
      ]
     },
     "execution_count": 23,
     "metadata": {},
     "output_type": "execute_result"
    }
   ],
   "source": [
    "df = pd.get_dummies(df)\n",
    "\n",
    "df.head()"
   ]
  },
  {
   "cell_type": "code",
   "execution_count": 24,
   "metadata": {
    "execution": {
     "iopub.execute_input": "2020-08-26T13:06:46.338262Z",
     "iopub.status.busy": "2020-08-26T13:06:46.336262Z",
     "iopub.status.idle": "2020-08-26T13:06:47.339356Z",
     "shell.execute_reply": "2020-08-26T13:06:47.339996Z"
    },
    "papermill": {
     "duration": 1.040836,
     "end_time": "2020-08-26T13:06:47.340157",
     "exception": false,
     "start_time": "2020-08-26T13:06:46.299321",
     "status": "completed"
    },
    "tags": []
   },
   "outputs": [
    {
     "data": {
      "image/png": "[encoded data removed]",
      "text/plain": [
       "<Figure size 864x720 with 2 Axes>"
      ]
     },
     "metadata": {
      "needs_background": "light"
     },
     "output_type": "display_data"
    }
   ],
   "source": [
    "# Correlation Matrix for Wide Format Data\n",
    "f, ax = plt.subplots(figsize= [12,10])\n",
    "g = sns.heatmap(df.corr(),annot=True, fmt = \".2f\", ax=ax, cmap = \"magma\")\n",
    "ax.set_title(\"Correlation Matrix\", fontsize=25)\n",
    "plt.show()"
   ]
  },
  {
   "cell_type": "code",
   "execution_count": 25,
   "metadata": {
    "execution": {
     "iopub.execute_input": "2020-08-26T13:06:47.400559Z",
     "iopub.status.busy": "2020-08-26T13:06:47.399575Z",
     "iopub.status.idle": "2020-08-26T13:06:47.404284Z",
     "shell.execute_reply": "2020-08-26T13:06:47.403588Z"
    },
    "papermill": {
     "duration": 0.038574,
     "end_time": "2020-08-26T13:06:47.404409",
     "exception": false,
     "start_time": "2020-08-26T13:06:47.365835",
     "status": "completed"
    },
    "tags": []
   },
   "outputs": [],
   "source": [
    "y = df[\"Exited\"]\n",
    "\n",
    "X = df.drop(labels = [\"Exited\"],axis = 1)"
   ]
  },
  {
   "cell_type": "markdown",
   "metadata": {
    "papermill": {
     "duration": 0.025052,
     "end_time": "2020-08-26T13:06:47.454998",
     "exception": false,
     "start_time": "2020-08-26T13:06:47.429946",
     "status": "completed"
    },
    "tags": []
   },
   "source": [
    "# Model"
   ]
  },
  {
   "cell_type": "code",
   "execution_count": 26,
   "metadata": {
    "execution": {
     "iopub.execute_input": "2020-08-26T13:06:47.515702Z",
     "iopub.status.busy": "2020-08-26T13:06:47.514825Z",
     "iopub.status.idle": "2020-08-26T13:06:47.519778Z",
     "shell.execute_reply": "2020-08-26T13:06:47.520327Z"
    },
    "papermill": {
     "duration": 0.03856,
     "end_time": "2020-08-26T13:06:47.520486",
     "exception": false,
     "start_time": "2020-08-26T13:06:47.481926",
     "status": "completed"
    },
    "tags": []
   },
   "outputs": [],
   "source": [
    "# Splitting data into testing and training data\n",
    "from sklearn.model_selection import train_test_split\n",
    "\n",
    "X_train, X_test, y_train, y_test = train_test_split(X, y, test_size=0.3, random_state=1992)"
   ]
  },
  {
   "cell_type": "markdown",
   "metadata": {
    "papermill": {
     "duration": 0.024966,
     "end_time": "2020-08-26T13:06:47.570881",
     "exception": false,
     "start_time": "2020-08-26T13:06:47.545915",
     "status": "completed"
    },
    "tags": []
   },
   "source": [
    "### Oversampling"
   ]
  },
  {
   "cell_type": "code",
   "execution_count": 27,
   "metadata": {
    "execution": {
     "iopub.execute_input": "2020-08-26T13:06:47.677263Z",
     "iopub.status.busy": "2020-08-26T13:06:47.676358Z",
     "iopub.status.idle": "2020-08-26T13:06:47.796683Z",
     "shell.execute_reply": "2020-08-26T13:06:47.795904Z"
    },
    "papermill": {
     "duration": 0.150438,
     "end_time": "2020-08-26T13:06:47.796840",
     "exception": false,
     "start_time": "2020-08-26T13:06:47.646402",
     "status": "completed"
    },
    "tags": []
   },
   "outputs": [],
   "source": [
    "from imblearn.over_sampling import SMOTE"
   ]
  },
  {
   "cell_type": "code",
   "execution_count": 31,
   "metadata": {
    "execution": {
     "iopub.execute_input": "2020-08-26T13:06:47.855045Z",
     "iopub.status.busy": "2020-08-26T13:06:47.853911Z",
     "iopub.status.idle": "2020-08-26T13:06:47.886107Z",
     "shell.execute_reply": "2020-08-26T13:06:47.885461Z"
    },
    "papermill": {
     "duration": 0.063735,
     "end_time": "2020-08-26T13:06:47.886243",
     "exception": false,
     "start_time": "2020-08-26T13:06:47.822508",
     "status": "completed"
    },
    "tags": []
   },
   "outputs": [],
   "source": [
    "smote = SMOTE(random_state=42, k_neighbors=5, sampling_strategy=1)\n",
    "X_train_smo, y_train_smo = smote.fit_resample(X_train, y_train)"
   ]
  },
  {
   "cell_type": "code",
   "execution_count": 32,
   "metadata": {
    "execution": {
     "iopub.execute_input": "2020-08-26T13:06:47.945575Z",
     "iopub.status.busy": "2020-08-26T13:06:47.942432Z",
     "iopub.status.idle": "2020-08-26T13:06:47.950403Z",
     "shell.execute_reply": "2020-08-26T13:06:47.949638Z"
    },
    "papermill": {
     "duration": 0.038337,
     "end_time": "2020-08-26T13:06:47.950529",
     "exception": false,
     "start_time": "2020-08-26T13:06:47.912192",
     "status": "completed"
    },
    "tags": []
   },
   "outputs": [
    {
     "data": {
      "text/plain": [
       "0    5573\n",
       "1    1427\n",
       "Name: Exited, dtype: int64"
      ]
     },
     "execution_count": 32,
     "metadata": {},
     "output_type": "execute_result"
    }
   ],
   "source": [
    "y_train.value_counts()"
   ]
  },
  {
   "cell_type": "code",
   "execution_count": 33,
   "metadata": {
    "execution": {
     "iopub.execute_input": "2020-08-26T13:06:48.010854Z",
     "iopub.status.busy": "2020-08-26T13:06:48.009843Z",
     "iopub.status.idle": "2020-08-26T13:06:48.014791Z",
     "shell.execute_reply": "2020-08-26T13:06:48.014180Z"
    },
    "papermill": {
     "duration": 0.038642,
     "end_time": "2020-08-26T13:06:48.014950",
     "exception": false,
     "start_time": "2020-08-26T13:06:47.976308",
     "status": "completed"
    },
    "tags": []
   },
   "outputs": [
    {
     "data": {
      "text/plain": [
       "1    5573\n",
       "0    5573\n",
       "Name: Exited, dtype: int64"
      ]
     },
     "execution_count": 33,
     "metadata": {},
     "output_type": "execute_result"
    }
   ],
   "source": [
    "y_train_smo.value_counts()"
   ]
  },
  {
   "cell_type": "markdown",
   "metadata": {
    "papermill": {
     "duration": 0.026135,
     "end_time": "2020-08-26T13:06:48.067981",
     "exception": false,
     "start_time": "2020-08-26T13:06:48.041846",
     "status": "completed"
    },
    "tags": []
   },
   "source": [
    "### Cross Validation"
   ]
  },
  {
   "cell_type": "code",
   "execution_count": 34,
   "metadata": {
    "execution": {
     "iopub.execute_input": "2020-08-26T13:06:48.125474Z",
     "iopub.status.busy": "2020-08-26T13:06:48.124439Z",
     "iopub.status.idle": "2020-08-26T13:06:48.128244Z",
     "shell.execute_reply": "2020-08-26T13:06:48.127498Z"
    },
    "papermill": {
     "duration": 0.034448,
     "end_time": "2020-08-26T13:06:48.128366",
     "exception": false,
     "start_time": "2020-08-26T13:06:48.093918",
     "status": "completed"
    },
    "tags": []
   },
   "outputs": [],
   "source": [
    "# Cross validate model with Kfold stratified cross validation\n",
    "kfold = StratifiedKFold(n_splits=5)"
   ]
  },
  {
   "cell_type": "code",
   "execution_count": 35,
   "metadata": {
    "execution": {
     "iopub.execute_input": "2020-08-26T13:06:48.196934Z",
     "iopub.status.busy": "2020-08-26T13:06:48.196090Z",
     "iopub.status.idle": "2020-08-26T13:07:11.954328Z",
     "shell.execute_reply": "2020-08-26T13:07:11.954955Z"
    },
    "papermill": {
     "duration": 23.800814,
     "end_time": "2020-08-26T13:07:11.955112",
     "exception": false,
     "start_time": "2020-08-26T13:06:48.154298",
     "status": "completed"
    },
    "tags": []
   },
   "outputs": [
    {
     "name": "stderr",
     "output_type": "stream",
     "text": [
      "C:\\Users\\ASUS\\anaconda3\\lib\\site-packages\\seaborn\\_decorators.py:36: FutureWarning: Pass the following variables as keyword args: x, y. From version 0.12, the only valid positional argument will be `data`, and passing other arguments without an explicit keyword will result in an error or misinterpretation.\n",
      "  warnings.warn(\n"
     ]
    },
    {
     "data": {
      "image/png": "[encoded data removed]",
      "text/plain": [
       "<Figure size 432x288 with 1 Axes>"
      ]
     },
     "metadata": {
      "needs_background": "light"
     },
     "output_type": "display_data"
    }
   ],
   "source": [
    "# Modeling step Test differents algorithms \n",
    "random_state = 1992\n",
    "classifiers = []\n",
    "classifiers.append(LogisticRegression())\n",
    "classifiers.append(RandomForestClassifier())\n",
    "classifiers.append(KNeighborsClassifier())\n",
    "classifiers.append(SVC())\n",
    "classifiers.append(XGBClassifier())\n",
    "\n",
    "\n",
    "cv_results = []\n",
    "for classifier in classifiers :\n",
    "    cv_results.append(cross_val_score(classifier, X_train_smo, y = y_train_smo, scoring = \"f1\", cv = kfold, n_jobs=4))\n",
    "\n",
    "cv_means = []\n",
    "cv_std = []\n",
    "for cv_result in cv_results:\n",
    "    cv_means.append(cv_result.mean())\n",
    "    cv_std.append(cv_result.std())\n",
    "\n",
    "cv_res = pd.DataFrame({\"CrossValMeans\":cv_means,\"CrossValerrors\": cv_std,\"Algorithm\":[\"LogisticRegression\",\"RandomForest\",\"KNeighboors\",\"SVC\",\"XGB\"]})\n",
    "\n",
    "g = sns.barplot(\"CrossValMeans\",\"Algorithm\",data = cv_res, palette=\"Set3\",orient = \"h\",**{'xerr':cv_std})\n",
    "g.set_xlabel(\"Mean F1 Score\")\n",
    "g = g.set_title(\"Cross validation scores\")"
   ]
  },
  {
   "cell_type": "markdown",
   "metadata": {
    "papermill": {
     "duration": 0.026198,
     "end_time": "2020-08-26T13:07:12.114486",
     "exception": false,
     "start_time": "2020-08-26T13:07:12.088288",
     "status": "completed"
    },
    "tags": []
   },
   "source": [
    "#### Logistic Regression"
   ]
  },
  {
   "cell_type": "code",
   "execution_count": 36,
   "metadata": {
    "execution": {
     "iopub.execute_input": "2020-08-26T13:07:12.176313Z",
     "iopub.status.busy": "2020-08-26T13:07:12.175516Z",
     "iopub.status.idle": "2020-08-26T13:07:13.652338Z",
     "shell.execute_reply": "2020-08-26T13:07:13.653029Z"
    },
    "papermill": {
     "duration": 1.512519,
     "end_time": "2020-08-26T13:07:13.653221",
     "exception": false,
     "start_time": "2020-08-26T13:07:12.140702",
     "status": "completed"
    },
    "tags": []
   },
   "outputs": [
    {
     "name": "stdout",
     "output_type": "stream",
     "text": [
      "Fitting 5 folds for each of 14 candidates, totalling 70 fits\n"
     ]
    },
    {
     "name": "stderr",
     "output_type": "stream",
     "text": [
      "C:\\Users\\ASUS\\anaconda3\\lib\\site-packages\\sklearn\\model_selection\\_validation.py:372: FitFailedWarning: \n",
      "35 fits failed out of a total of 70.\n",
      "The score on these train-test partitions for these parameters will be set to nan.\n",
      "If these failures are not expected, you can try to debug them by setting error_score='raise'.\n",
      "\n",
      "Below are more details about the failures:\n",
      "--------------------------------------------------------------------------------\n",
      "35 fits failed with the following error:\n",
      "Traceback (most recent call last):\n",
      "  File \"C:\\Users\\ASUS\\anaconda3\\lib\\site-packages\\sklearn\\model_selection\\_validation.py\", line 680, in _fit_and_score\n",
      "    estimator.fit(X_train, y_train, **fit_params)\n",
      "  File \"C:\\Users\\ASUS\\anaconda3\\lib\\site-packages\\sklearn\\linear_model\\_logistic.py\", line 1461, in fit\n",
      "    solver = _check_solver(self.solver, self.penalty, self.dual)\n",
      "  File \"C:\\Users\\ASUS\\anaconda3\\lib\\site-packages\\sklearn\\linear_model\\_logistic.py\", line 447, in _check_solver\n",
      "    raise ValueError(\n",
      "ValueError: Solver lbfgs supports only 'l2' or 'none' penalties, got l1 penalty.\n",
      "\n",
      "  warnings.warn(some_fits_failed_message, FitFailedWarning)\n",
      "C:\\Users\\ASUS\\anaconda3\\lib\\site-packages\\sklearn\\model_selection\\_search.py:969: UserWarning: One or more of the test scores are non-finite: [       nan 0.61942332        nan 0.61942332        nan 0.61942332\n",
      "        nan 0.61942332        nan 0.61942332        nan 0.61942332\n",
      "        nan 0.61942332]\n",
      "  warnings.warn(\n"
     ]
    },
    {
     "data": {
      "text/plain": [
       "GridSearchCV(cv=StratifiedKFold(n_splits=5, random_state=None, shuffle=False),\n",
       "             estimator=LogisticRegression(), n_jobs=4,\n",
       "             param_grid={'C': array([1.e-03, 1.e-02, 1.e-01, 1.e+00, 1.e+01, 1.e+02, 1.e+03]),\n",
       "                         'penalty': ['l1', 'l2']},\n",
       "             scoring='f1', verbose=1)"
      ]
     },
     "execution_count": 36,
     "metadata": {},
     "output_type": "execute_result"
    }
   ],
   "source": [
    "# LogisticRegression\n",
    "\n",
    "LR = LogisticRegression()\n",
    "\n",
    "param_grid = {\n",
    "                  \"C\":np.logspace(-3,3,7), \n",
    "                  \"penalty\":[\"l1\",\"l2\"]\n",
    "}\n",
    "\n",
    "gs_LR = GridSearchCV(LR, param_grid = param_grid, cv=kfold, scoring=\"f1\", n_jobs= 4, verbose = 1)\n",
    "\n",
    "gs_LR.fit(X_train_smo,y_train_smo)\n"
   ]
  },
  {
   "cell_type": "code",
   "execution_count": 37,
   "metadata": {
    "execution": {
     "iopub.execute_input": "2020-08-26T13:07:13.720368Z",
     "iopub.status.busy": "2020-08-26T13:07:13.719542Z",
     "iopub.status.idle": "2020-08-26T13:07:13.723436Z",
     "shell.execute_reply": "2020-08-26T13:07:13.722827Z"
    },
    "papermill": {
     "duration": 0.039769,
     "end_time": "2020-08-26T13:07:13.723566",
     "exception": false,
     "start_time": "2020-08-26T13:07:13.683797",
     "status": "completed"
    },
    "tags": []
   },
   "outputs": [],
   "source": [
    "y_pred = gs_LR.predict(X_test)"
   ]
  },
  {
   "cell_type": "code",
   "execution_count": 38,
   "metadata": {
    "execution": {
     "iopub.execute_input": "2020-08-26T13:07:13.785199Z",
     "iopub.status.busy": "2020-08-26T13:07:13.784100Z",
     "iopub.status.idle": "2020-08-26T13:07:13.808439Z",
     "shell.execute_reply": "2020-08-26T13:07:13.807850Z"
    },
    "papermill": {
     "duration": 0.058145,
     "end_time": "2020-08-26T13:07:13.808573",
     "exception": false,
     "start_time": "2020-08-26T13:07:13.750428",
     "status": "completed"
    },
    "tags": []
   },
   "outputs": [
    {
     "name": "stdout",
     "output_type": "stream",
     "text": [
      "\n",
      "Classification Report:\n",
      "\n",
      "              precision    recall  f1-score   support\n",
      "\n",
      "           0       0.89      0.64      0.75      2390\n",
      "           1       0.33      0.69      0.45       610\n",
      "\n",
      "    accuracy                           0.65      3000\n",
      "   macro avg       0.61      0.67      0.60      3000\n",
      "weighted avg       0.78      0.65      0.69      3000\n",
      "\n",
      "\n",
      "Confusion Matrix:\n",
      "[[1538  852]\n",
      " [ 187  423]]\n"
     ]
    }
   ],
   "source": [
    "print(\"\\nClassification Report:\\n\")\n",
    "print(classification_report(y_test,y_pred))\n",
    "\n",
    "print(\"\\nConfusion Matrix:\")\n",
    "print(confusion_matrix(y_test,y_pred))"
   ]
  },
  {
   "cell_type": "markdown",
   "metadata": {
    "papermill": {
     "duration": 0.026565,
     "end_time": "2020-08-26T13:07:13.862065",
     "exception": false,
     "start_time": "2020-08-26T13:07:13.835500",
     "status": "completed"
    },
    "tags": []
   },
   "source": [
    "#### Random Forest"
   ]
  },
  {
   "cell_type": "code",
   "execution_count": 39,
   "metadata": {
    "execution": {
     "iopub.execute_input": "2020-08-26T13:07:13.926980Z",
     "iopub.status.busy": "2020-08-26T13:07:13.925872Z",
     "iopub.status.idle": "2020-08-26T13:10:02.119439Z",
     "shell.execute_reply": "2020-08-26T13:10:02.118802Z"
    },
    "papermill": {
     "duration": 168.230551,
     "end_time": "2020-08-26T13:10:02.119580",
     "exception": false,
     "start_time": "2020-08-26T13:07:13.889029",
     "status": "completed"
    },
    "tags": []
   },
   "outputs": [
    {
     "name": "stdout",
     "output_type": "stream",
     "text": [
      "Fitting 5 folds for each of 81 candidates, totalling 405 fits\n"
     ]
    },
    {
     "data": {
      "text/plain": [
       "GridSearchCV(cv=StratifiedKFold(n_splits=5, random_state=None, shuffle=False),\n",
       "             estimator=RandomForestClassifier(), n_jobs=4,\n",
       "             param_grid={'bootstrap': [False], 'criterion': ['gini'],\n",
       "                         'max_depth': [4, 5, 7], 'max_features': [1, 3, 10],\n",
       "                         'min_samples_leaf': [1, 3, 10],\n",
       "                         'n_estimators': [80, 100, 120]},\n",
       "             scoring='f1', verbose=1)"
      ]
     },
     "execution_count": 39,
     "metadata": {},
     "output_type": "execute_result"
    }
   ],
   "source": [
    "# RandomForest \n",
    "\n",
    "RFC = RandomForestClassifier()\n",
    "\n",
    "\n",
    "param_grid = {\n",
    "              \"max_depth\": [4,5,7],\n",
    "              \"max_features\": [1, 3, 10],\n",
    "              \"min_samples_leaf\": [1, 3, 10],\n",
    "              \"bootstrap\": [False],\n",
    "              \"n_estimators\" :[80,100,120],\n",
    "              \"criterion\": [\"gini\"]\n",
    "}\n",
    "\n",
    "\n",
    "gs_RFC = GridSearchCV(RFC,param_grid = param_grid, cv=kfold, scoring=\"f1\", n_jobs= 4, verbose = 1)\n",
    "\n",
    "gs_RFC.fit(X_train_smo,y_train_smo)\n"
   ]
  },
  {
   "cell_type": "code",
   "execution_count": 40,
   "metadata": {
    "execution": {
     "iopub.execute_input": "2020-08-26T13:10:02.182999Z",
     "iopub.status.busy": "2020-08-26T13:10:02.182201Z",
     "iopub.status.idle": "2020-08-26T13:10:02.229674Z",
     "shell.execute_reply": "2020-08-26T13:10:02.230565Z"
    },
    "papermill": {
     "duration": 0.083167,
     "end_time": "2020-08-26T13:10:02.230829",
     "exception": false,
     "start_time": "2020-08-26T13:10:02.147662",
     "status": "completed"
    },
    "tags": []
   },
   "outputs": [],
   "source": [
    "y_pred = gs_RFC.predict(X_test)"
   ]
  },
  {
   "cell_type": "code",
   "execution_count": 41,
   "metadata": {
    "execution": {
     "iopub.execute_input": "2020-08-26T13:10:02.293265Z",
     "iopub.status.busy": "2020-08-26T13:10:02.292497Z",
     "iopub.status.idle": "2020-08-26T13:10:02.313466Z",
     "shell.execute_reply": "2020-08-26T13:10:02.312508Z"
    },
    "papermill": {
     "duration": 0.054914,
     "end_time": "2020-08-26T13:10:02.313637",
     "exception": false,
     "start_time": "2020-08-26T13:10:02.258723",
     "status": "completed"
    },
    "tags": []
   },
   "outputs": [
    {
     "name": "stdout",
     "output_type": "stream",
     "text": [
      "\n",
      "Classification Report:\n",
      "\n",
      "              precision    recall  f1-score   support\n",
      "\n",
      "           0       0.90      0.89      0.89      2390\n",
      "           1       0.57      0.60      0.59       610\n",
      "\n",
      "    accuracy                           0.83      3000\n",
      "   macro avg       0.74      0.74      0.74      3000\n",
      "weighted avg       0.83      0.83      0.83      3000\n",
      "\n",
      "\n",
      "Confusion Matrix:\n",
      "[[2117  273]\n",
      " [ 243  367]]\n"
     ]
    }
   ],
   "source": [
    "print(\"\\nClassification Report:\\n\")\n",
    "print(classification_report(y_test,y_pred))\n",
    "\n",
    "print(\"\\nConfusion Matrix:\")\n",
    "print(confusion_matrix(y_test,y_pred))"
   ]
  },
  {
   "cell_type": "markdown",
   "metadata": {
    "papermill": {
     "duration": 0.027679,
     "end_time": "2020-08-26T13:10:02.369932",
     "exception": false,
     "start_time": "2020-08-26T13:10:02.342253",
     "status": "completed"
    },
    "tags": []
   },
   "source": [
    "#### KNeighboors"
   ]
  },
  {
   "cell_type": "code",
   "execution_count": 42,
   "metadata": {
    "execution": {
     "iopub.execute_input": "2020-08-26T13:10:02.434526Z",
     "iopub.status.busy": "2020-08-26T13:10:02.433439Z",
     "iopub.status.idle": "2020-08-26T13:10:07.296768Z",
     "shell.execute_reply": "2020-08-26T13:10:07.295992Z"
    },
    "papermill": {
     "duration": 4.899436,
     "end_time": "2020-08-26T13:10:07.296918",
     "exception": false,
     "start_time": "2020-08-26T13:10:02.397482",
     "status": "completed"
    },
    "tags": []
   },
   "outputs": [
    {
     "data": {
      "text/plain": [
       "GridSearchCV(cv=StratifiedKFold(n_splits=5, random_state=None, shuffle=False),\n",
       "             estimator=KNeighborsClassifier(), n_jobs=4,\n",
       "             param_grid={'n_neighbors': array([ 2,  3,  4,  5,  6,  7,  8,  9, 10, 11, 12, 13, 14, 15, 16, 17, 18,\n",
       "       19])})"
      ]
     },
     "execution_count": 42,
     "metadata": {},
     "output_type": "execute_result"
    }
   ],
   "source": [
    "# KNeighbors\n",
    "\n",
    "KNN = KNeighborsClassifier()\n",
    "\n",
    "k_grid={\n",
    "        'n_neighbors':np.arange(2,20)\n",
    "}\n",
    "\n",
    "gs_KNN=GridSearchCV(KNN, k_grid, cv=kfold, refit=True, n_jobs=4)\n",
    "\n",
    "gs_KNN.fit(X_train_smo,y_train_smo)"
   ]
  },
  {
   "cell_type": "code",
   "execution_count": 43,
   "metadata": {
    "execution": {
     "iopub.execute_input": "2020-08-26T13:10:07.363776Z",
     "iopub.status.busy": "2020-08-26T13:10:07.362969Z",
     "iopub.status.idle": "2020-08-26T13:10:07.506237Z",
     "shell.execute_reply": "2020-08-26T13:10:07.505557Z"
    },
    "papermill": {
     "duration": 0.17808,
     "end_time": "2020-08-26T13:10:07.506364",
     "exception": false,
     "start_time": "2020-08-26T13:10:07.328284",
     "status": "completed"
    },
    "tags": []
   },
   "outputs": [],
   "source": [
    "y_pred = gs_KNN.predict(X_test)"
   ]
  },
  {
   "cell_type": "code",
   "execution_count": 44,
   "metadata": {
    "execution": {
     "iopub.execute_input": "2020-08-26T13:10:07.568092Z",
     "iopub.status.busy": "2020-08-26T13:10:07.567318Z",
     "iopub.status.idle": "2020-08-26T13:10:07.587875Z",
     "shell.execute_reply": "2020-08-26T13:10:07.586749Z"
    },
    "papermill": {
     "duration": 0.053837,
     "end_time": "2020-08-26T13:10:07.588052",
     "exception": false,
     "start_time": "2020-08-26T13:10:07.534215",
     "status": "completed"
    },
    "tags": []
   },
   "outputs": [
    {
     "name": "stdout",
     "output_type": "stream",
     "text": [
      "\n",
      "Classification Report:\n",
      "\n",
      "              precision    recall  f1-score   support\n",
      "\n",
      "           0       0.79      0.61      0.69      2390\n",
      "           1       0.20      0.38      0.26       610\n",
      "\n",
      "    accuracy                           0.56      3000\n",
      "   macro avg       0.50      0.50      0.48      3000\n",
      "weighted avg       0.67      0.56      0.60      3000\n",
      "\n",
      "\n",
      "Confusion Matrix:\n",
      "[[1454  936]\n",
      " [ 377  233]]\n"
     ]
    }
   ],
   "source": [
    "print(\"\\nClassification Report:\\n\")\n",
    "print(classification_report(y_test,y_pred))\n",
    "\n",
    "print(\"\\nConfusion Matrix:\")\n",
    "print(confusion_matrix(y_test,y_pred))"
   ]
  },
  {
   "cell_type": "markdown",
   "metadata": {
    "papermill": {
     "duration": 0.027194,
     "end_time": "2020-08-26T13:10:07.643597",
     "exception": false,
     "start_time": "2020-08-26T13:10:07.616403",
     "status": "completed"
    },
    "tags": []
   },
   "source": [
    "#### SVC"
   ]
  },
  {
   "cell_type": "code",
   "execution_count": 45,
   "metadata": {
    "execution": {
     "iopub.execute_input": "2020-08-26T13:10:07.707793Z",
     "iopub.status.busy": "2020-08-26T13:10:07.706993Z",
     "iopub.status.idle": "2020-08-26T13:12:21.908796Z",
     "shell.execute_reply": "2020-08-26T13:12:21.909416Z"
    },
    "papermill": {
     "duration": 134.238362,
     "end_time": "2020-08-26T13:12:21.909582",
     "exception": false,
     "start_time": "2020-08-26T13:10:07.671220",
     "status": "completed"
    },
    "tags": []
   },
   "outputs": [
    {
     "data": {
      "text/plain": [
       "GridSearchCV(cv=StratifiedKFold(n_splits=5, random_state=None, shuffle=False),\n",
       "             estimator=SVC(), n_jobs=4,\n",
       "             param_grid={'C': [0.1, 1, 10], 'gamma': [0.01, 0.1, 1],\n",
       "                         'kernel': ['rbf']})"
      ]
     },
     "execution_count": 45,
     "metadata": {},
     "output_type": "execute_result"
    }
   ],
   "source": [
    "# SVC\n",
    "SVM = SVC()\n",
    "\n",
    "\n",
    "param_grid = {\n",
    "                'C': [0.1, 1, 10], \n",
    "                'gamma': [0.01, 0.1, 1],\n",
    "                'kernel': ['rbf']\n",
    "}\n",
    "\n",
    "gs_SVM = GridSearchCV(SVM, param_grid, cv=kfold, n_jobs=4)\n",
    "\n",
    "gs_SVM.fit(X_train_smo,y_train_smo)"
   ]
  },
  {
   "cell_type": "code",
   "execution_count": 46,
   "metadata": {
    "execution": {
     "iopub.execute_input": "2020-08-26T13:12:21.974342Z",
     "iopub.status.busy": "2020-08-26T13:12:21.973557Z",
     "iopub.status.idle": "2020-08-26T13:12:23.038541Z",
     "shell.execute_reply": "2020-08-26T13:12:23.037906Z"
    },
    "papermill": {
     "duration": 1.100905,
     "end_time": "2020-08-26T13:12:23.038672",
     "exception": false,
     "start_time": "2020-08-26T13:12:21.937767",
     "status": "completed"
    },
    "tags": []
   },
   "outputs": [],
   "source": [
    "y_pred = gs_SVM.predict(X_test)"
   ]
  },
  {
   "cell_type": "code",
   "execution_count": 47,
   "metadata": {
    "execution": {
     "iopub.execute_input": "2020-08-26T13:12:23.103939Z",
     "iopub.status.busy": "2020-08-26T13:12:23.102836Z",
     "iopub.status.idle": "2020-08-26T13:12:23.122886Z",
     "shell.execute_reply": "2020-08-26T13:12:23.123866Z"
    },
    "papermill": {
     "duration": 0.056446,
     "end_time": "2020-08-26T13:12:23.124084",
     "exception": false,
     "start_time": "2020-08-26T13:12:23.067638",
     "status": "completed"
    },
    "tags": []
   },
   "outputs": [
    {
     "name": "stdout",
     "output_type": "stream",
     "text": [
      "\n",
      "Classification Report:\n",
      "\n",
      "              precision    recall  f1-score   support\n",
      "\n",
      "           0       0.80      0.99      0.88      2390\n",
      "           1       0.11      0.00      0.01       610\n",
      "\n",
      "    accuracy                           0.79      3000\n",
      "   macro avg       0.45      0.50      0.44      3000\n",
      "weighted avg       0.66      0.79      0.71      3000\n",
      "\n",
      "\n",
      "Confusion Matrix:\n",
      "[[2373   17]\n",
      " [ 608    2]]\n"
     ]
    }
   ],
   "source": [
    "print(\"\\nClassification Report:\\n\")\n",
    "print(classification_report(y_test,y_pred))\n",
    "\n",
    "print(\"\\nConfusion Matrix:\")\n",
    "print(confusion_matrix(y_test,y_pred))"
   ]
  },
  {
   "cell_type": "markdown",
   "metadata": {
    "papermill": {
     "duration": 0.029113,
     "end_time": "2020-08-26T13:12:23.182786",
     "exception": false,
     "start_time": "2020-08-26T13:12:23.153673",
     "status": "completed"
    },
    "tags": []
   },
   "source": [
    "#### XGB"
   ]
  },
  {
   "cell_type": "code",
   "execution_count": 48,
   "metadata": {
    "execution": {
     "iopub.execute_input": "2020-08-26T13:12:23.251729Z",
     "iopub.status.busy": "2020-08-26T13:12:23.250603Z",
     "iopub.status.idle": "2020-08-26T13:31:53.707149Z",
     "shell.execute_reply": "2020-08-26T13:31:53.707911Z"
    },
    "papermill": {
     "duration": 1170.496513,
     "end_time": "2020-08-26T13:31:53.708127",
     "exception": false,
     "start_time": "2020-08-26T13:12:23.211614",
     "status": "completed"
    },
    "tags": []
   },
   "outputs": [
    {
     "name": "stderr",
     "output_type": "stream",
     "text": [
      "C:\\Users\\ASUS\\anaconda3\\lib\\site-packages\\xgboost\\sklearn.py:1224: UserWarning: The use of label encoder in XGBClassifier is deprecated and will be removed in a future release. To remove this warning, do the following: 1) Pass option use_label_encoder=False when constructing XGBClassifier object; and 2) Encode your labels (y) as integers starting with 0, i.e. 0, 1, 2, ..., [num_class - 1].\n",
      "  warnings.warn(label_encoder_deprecation_msg, UserWarning)\n"
     ]
    },
    {
     "name": "stdout",
     "output_type": "stream",
     "text": [
      "[16:17:10] WARNING: C:/Users/Administrator/workspace/xgboost-win64_release_1.5.1/src/learner.cc:1115: Starting in XGBoost 1.3.0, the default evaluation metric used with the objective 'binary:logistic' was changed from 'error' to 'logloss'. Explicitly set eval_metric if you'd like to restore the old behavior.\n"
     ]
    },
    {
     "data": {
      "text/plain": [
       "GridSearchCV(cv=StratifiedKFold(n_splits=5, random_state=None, shuffle=False),\n",
       "             estimator=XGBClassifier(base_score=None, booster=None,\n",
       "                                     colsample_bylevel=None,\n",
       "                                     colsample_bynode=None,\n",
       "                                     colsample_bytree=None,\n",
       "                                     enable_categorical=False, gamma=None,\n",
       "                                     gpu_id=None, importance_type=None,\n",
       "                                     interaction_constraints=None,\n",
       "                                     learning_rate=None, max_delta_step=None,\n",
       "                                     max_depth=None, mi...\n",
       "                                     n_estimators=100, n_jobs=None,\n",
       "                                     num_parallel_tree=None, predictor=None,\n",
       "                                     random_state=None, reg_alpha=None,\n",
       "                                     reg_lambda=None, scale_pos_weight=None,\n",
       "                                     subsample=None, tree_method=None,\n",
       "                                     validate_parameters=None, verbosity=None),\n",
       "             n_jobs=4,\n",
       "             param_grid={'gamma': [0.01, 0.001, 0.001],\n",
       "                         'learning_rate': [0.05, 0.1, 0.2],\n",
       "                         'max_depth': [5, 6, 7, 8],\n",
       "                         'min_child_weight': [1, 5, 8, 10],\n",
       "                         'n_estimators': [50, 80, 100, 120]})"
      ]
     },
     "execution_count": 48,
     "metadata": {},
     "output_type": "execute_result"
    }
   ],
   "source": [
    "# XGB\n",
    "\n",
    "XGB = XGBClassifier()\n",
    "\n",
    "param_grid = {\n",
    "                'n_estimators': [50,80,100,120], \n",
    "                'gamma': [0.01,0.001,0.001], \n",
    "                'max_depth': [5,6,7,8],\n",
    "                'min_child_weight': [1,5,8,10], \n",
    "                'learning_rate': [0.05,0.1,0.2]\n",
    "}\n",
    "\n",
    "gs_XGB = GridSearchCV(estimator = XGB, param_grid =  param_grid,  cv=kfold, n_jobs=4)\n",
    "\n",
    "gs_XGB.fit(X_train_smo,y_train_smo)"
   ]
  },
  {
   "cell_type": "code",
   "execution_count": 49,
   "metadata": {
    "execution": {
     "iopub.execute_input": "2020-08-26T13:31:53.793779Z",
     "iopub.status.busy": "2020-08-26T13:31:53.792708Z",
     "iopub.status.idle": "2020-08-26T13:31:53.803497Z",
     "shell.execute_reply": "2020-08-26T13:31:53.804293Z"
    },
    "papermill": {
     "duration": 0.059774,
     "end_time": "2020-08-26T13:31:53.804488",
     "exception": false,
     "start_time": "2020-08-26T13:31:53.744714",
     "status": "completed"
    },
    "tags": []
   },
   "outputs": [],
   "source": [
    "y_pred = gs_XGB.predict(X_test)"
   ]
  },
  {
   "cell_type": "code",
   "execution_count": 50,
   "metadata": {
    "execution": {
     "iopub.execute_input": "2020-08-26T13:31:53.893162Z",
     "iopub.status.busy": "2020-08-26T13:31:53.892045Z",
     "iopub.status.idle": "2020-08-26T13:31:53.916169Z",
     "shell.execute_reply": "2020-08-26T13:31:53.916924Z"
    },
    "papermill": {
     "duration": 0.067005,
     "end_time": "2020-08-26T13:31:53.917110",
     "exception": false,
     "start_time": "2020-08-26T13:31:53.850105",
     "status": "completed"
    },
    "tags": []
   },
   "outputs": [
    {
     "name": "stdout",
     "output_type": "stream",
     "text": [
      "\n",
      "Classification Report:\n",
      "\n",
      "              precision    recall  f1-score   support\n",
      "\n",
      "           0       0.89      0.91      0.90      2390\n",
      "           1       0.62      0.57      0.59       610\n",
      "\n",
      "    accuracy                           0.84      3000\n",
      "   macro avg       0.76      0.74      0.75      3000\n",
      "weighted avg       0.84      0.84      0.84      3000\n",
      "\n",
      "\n",
      "Confusion Matrix:\n",
      "[[2182  208]\n",
      " [ 265  345]]\n"
     ]
    }
   ],
   "source": [
    "print(\"\\nClassification Report:\\n\")\n",
    "print(classification_report(y_test,y_pred))\n",
    "\n",
    "print(\"\\nConfusion Matrix:\")\n",
    "print(confusion_matrix(y_test,y_pred))"
   ]
  },
  {
   "cell_type": "markdown",
   "metadata": {
    "papermill": {
     "duration": 0.036237,
     "end_time": "2020-08-26T13:31:53.989427",
     "exception": false,
     "start_time": "2020-08-26T13:31:53.953190",
     "status": "completed"
    },
    "tags": []
   },
   "source": [
    "Let's look into a voting classifier to combine the predictions coming from the best 3 classifiers"
   ]
  },
  {
   "cell_type": "code",
   "execution_count": 51,
   "metadata": {
    "execution": {
     "iopub.execute_input": "2020-08-26T13:31:54.058599Z",
     "iopub.status.busy": "2020-08-26T13:31:54.057509Z",
     "iopub.status.idle": "2020-08-26T13:31:55.613423Z",
     "shell.execute_reply": "2020-08-26T13:31:55.612426Z"
    },
    "papermill": {
     "duration": 1.592396,
     "end_time": "2020-08-26T13:31:55.613592",
     "exception": false,
     "start_time": "2020-08-26T13:31:54.021196",
     "status": "completed"
    },
    "tags": []
   },
   "outputs": [],
   "source": [
    "# Ensemble Modeling\n",
    "voting_clas = VotingClassifier(estimators=[('XGB', gs_XGB.best_estimator_),('extc', gs_LR.best_estimator_),('ada',gs_RFC.best_estimator_)], voting='soft', n_jobs=4)\n",
    "\n",
    "voting_clas = voting_clas.fit(X_train_smo, y_train_smo)"
   ]
  },
  {
   "cell_type": "code",
   "execution_count": 52,
   "metadata": {
    "execution": {
     "iopub.execute_input": "2020-08-26T13:31:55.689090Z",
     "iopub.status.busy": "2020-08-26T13:31:55.688156Z",
     "iopub.status.idle": "2020-08-26T13:31:55.748342Z",
     "shell.execute_reply": "2020-08-26T13:31:55.749103Z"
    },
    "papermill": {
     "duration": 0.105854,
     "end_time": "2020-08-26T13:31:55.749300",
     "exception": false,
     "start_time": "2020-08-26T13:31:55.643446",
     "status": "completed"
    },
    "tags": []
   },
   "outputs": [],
   "source": [
    "y_pred = voting_clas.predict(X_test)"
   ]
  },
  {
   "cell_type": "code",
   "execution_count": 53,
   "metadata": {
    "execution": {
     "iopub.execute_input": "2020-08-26T13:31:55.829052Z",
     "iopub.status.busy": "2020-08-26T13:31:55.827931Z",
     "iopub.status.idle": "2020-08-26T13:31:55.857868Z",
     "shell.execute_reply": "2020-08-26T13:31:55.858693Z"
    },
    "papermill": {
     "duration": 0.073488,
     "end_time": "2020-08-26T13:31:55.858909",
     "exception": false,
     "start_time": "2020-08-26T13:31:55.785421",
     "status": "completed"
    },
    "tags": []
   },
   "outputs": [
    {
     "name": "stdout",
     "output_type": "stream",
     "text": [
      "\n",
      "Classification Report:\n",
      "\n",
      "              precision    recall  f1-score   support\n",
      "\n",
      "           0       0.90      0.89      0.90      2390\n",
      "           1       0.60      0.62      0.61       610\n",
      "\n",
      "    accuracy                           0.84      3000\n",
      "   macro avg       0.75      0.76      0.75      3000\n",
      "weighted avg       0.84      0.84      0.84      3000\n",
      "\n",
      "\n",
      "Confusion Matrix:\n",
      "[[2139  251]\n",
      " [ 233  377]]\n"
     ]
    }
   ],
   "source": [
    "print(\"\\nClassification Report:\\n\")\n",
    "print(classification_report(y_test,y_pred))\n",
    "\n",
    "print(\"\\nConfusion Matrix:\")\n",
    "print(confusion_matrix(y_test,y_pred))"
   ]
  },
  {
   "cell_type": "markdown",
   "metadata": {
    "papermill": {
     "duration": 0.028998,
     "end_time": "2020-08-26T13:31:55.923718",
     "exception": false,
     "start_time": "2020-08-26T13:31:55.894720",
     "status": "completed"
    },
    "tags": []
   },
   "source": [
    "It seems that ensemble model gives best scores. "
   ]
  },
  {
   "cell_type": "code",
   "execution_count": null,
   "metadata": {},
   "outputs": [],
   "source": []
  },
  {
   "cell_type": "code",
   "execution_count": null,
   "metadata": {},
   "outputs": [],
   "source": []
  },
  {
   "cell_type": "code",
   "execution_count": null,
   "metadata": {},
   "outputs": [],
   "source": []
  }
 ],
 "metadata": {
  "kernelspec": {
   "display_name": "Python 3 (ipykernel)",
   "language": "python",
   "name": "python3"
  },
  "language_info": {
   "codemirror_mode": {
    "name": "ipython",
    "version": 3
   },
   "file_extension": ".py",
   "mimetype": "text/x-python",
   "name": "python",
   "nbconvert_exporter": "python",
   "pygments_lexer": "ipython3",
   "version": "3.9.7"
  },
  "papermill": {
   "duration": 1521.580377,
   "end_time": "2020-08-26T13:31:56.061869",
   "environment_variables": {},
   "exception": null,
   "input_path": "__notebook__.ipynb",
   "output_path": "__notebook__.ipynb",
   "parameters": {},
   "start_time": "2020-08-26T13:06:34.481492",
   "version": "2.1.0"
  }
 },
 "nbformat": 4,
 "nbformat_minor": 4
}
